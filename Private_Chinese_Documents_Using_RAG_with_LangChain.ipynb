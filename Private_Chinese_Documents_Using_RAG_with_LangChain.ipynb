{
  "cells": [
    {
      "cell_type": "markdown",
      "metadata": {
        "id": "view-in-github",
        "colab_type": "text"
      },
      "source": [
        "<a href=\"https://colab.research.google.com/github/ryanhao1115/Active_Learning/blob/main/Private_Chinese_Documents_Using_RAG_with_LangChain.ipynb\" target=\"_parent\"><img src=\"https://colab.research.google.com/assets/colab-badge.svg\" alt=\"Open In Colab\"/></a>"
      ]
    },
    {
      "cell_type": "markdown",
      "source": [
        "![zedun_logo](/content/drive/MyDrive/AInew/zedun_logo.jpg)"
      ],
      "metadata": {
        "id": "Uij0NmdohNEE"
      }
    },
    {
      "cell_type": "code",
      "source": [
        "from google.colab import drive\n",
        "drive.mount('/content/drive')"
      ],
      "metadata": {
        "colab": {
          "base_uri": "https://localhost:8080/"
        },
        "id": "71keqZdFelvl",
        "outputId": "18f8781f-26a5-478e-dcd3-cf1ca0bdbbb9"
      },
      "execution_count": 1,
      "outputs": [
        {
          "output_type": "stream",
          "name": "stdout",
          "text": [
            "Mounted at /content/drive\n"
          ]
        }
      ]
    },
    {
      "cell_type": "code",
      "source": [
        "import os, sys\n",
        "nb_path = '/content/notebooks'\n",
        "if not os.path.islink(nb_path):\n",
        "    os.symlink(\"/content/drive/My Drive/pythonpackages\", nb_path)\n",
        "    sys.path.insert(0, nb_path)\n",
        "    print(\"成功创建符号链接！\")\n",
        "\n"
      ],
      "metadata": {
        "id": "ddCGx0Mne0Fh",
        "colab": {
          "base_uri": "https://localhost:8080/"
        },
        "outputId": "c823460b-05af-4fd4-bea2-4b51c01ef229"
      },
      "execution_count": 2,
      "outputs": [
        {
          "output_type": "stream",
          "name": "stdout",
          "text": [
            "成功创建符号链接！\n"
          ]
        }
      ]
    },
    {
      "cell_type": "markdown",
      "metadata": {
        "id": "ffa1d055-3364-4f1e-abcb-d55460205509"
      },
      "source": [
        "# **Summarize Private Documents Using RAG, LangChain, and LLMs**\n"
      ]
    },
    {
      "cell_type": "markdown",
      "metadata": {
        "id": "349a1fad-8d78-4390-820d-c313ae95d394"
      },
      "source": [
        "## __Table of Contents__\n",
        "\n",
        "<ol>\n",
        "    <li><a href=\"#背景\">背景</a>\n",
        "        <ol>\n",
        "            <li><a href=\"#什么是RAG?\">什么是RAG?</a></li>\n",
        "            <li><a href=\"#RAG-architecture\">RAG architecture</a></li>\n",
        "        </ol>\n",
        "    </li>\n",
        "    <li>\n",
        "        <a href=\"#Objectives\">Objectives</a>\n",
        "    </li>\n",
        "    <li>\n",
        "        <a href=\"#Setup\">Setup</a>\n",
        "        <ol>\n",
        "            <li><a href=\"#Installing-required-libraries\">Installing required libraries</a></li>\n",
        "            <li><a href=\"#Importing-required-libraries\">Importing required libraries</a></li>\n",
        "        </ol>\n",
        "    </li>\n",
        "    <li>\n",
        "        <a href=\"#Preprocessing\">Preprocessing</a>\n",
        "        <ol>\n",
        "            <li><a href=\"#Load-the-document\">Load the document</a></li>\n",
        "            <li><a href=\"#Splitting-the-document-into-chunks\">Splitting the document into chunks</a></li>\n",
        "            <li><a href=\"#Embedding-and-storing\">Embedding and storing</a></li>\n",
        "        </ol>\n",
        "    </li>\n",
        "    <li>\n",
        "        <a href=\"#LLM-model-construction\">LLM model construction</a>\n",
        "    </li>\n",
        "    <li>\n",
        "        <a href=\"#Integrating-LangChain\">Integrating LangChain</a>\n",
        "    </li>\n",
        "    <li>\n",
        "        <a href=\"#Dive-deeper\">Dive deeper</a>\n",
        "        <ol>\n",
        "            <li><a href=\"#Using-prompt-template\">Using prompt template</a></li>\n",
        "            <li><a href=\"#Make-the-conversation-have-memory\">Make the conversation have memory</a></li>\n",
        "            <li><a href=\"#Wrap-up-and-make-it-an-agent\">Wrap up and make it an agent</a></li>\n",
        "        </ol>\n",
        "    </li>\n",
        "</ol>\n",
        "\n",
        "<a href=\"#Exercises\">Exercises</a>\n",
        "<ol>\n",
        "    <li><a href=\"#Exercise-1:-Work-on-your-own-document\">Exercise 1: Work on your own document</a></li>\n",
        "    <li><a href=\"#Exercise-2:-Return-the-source-from-the-document\">Exercise 2: Return the source from the document</a></li>\n",
        "    <li><a href=\"#Exercise-3:-Use-another-LLM-model\">Exercise 3: Use another LLM model</a></li>\n",
        "</ol>\n",
        "\n"
      ]
    },
    {
      "cell_type": "markdown",
      "metadata": {
        "id": "ba51d5a1-6c41-4c29-a807-529ea09b3f82"
      },
      "source": [
        "## **背景**\n",
        "\n",
        "### **什么是RAG?**\n",
        "LLMs能够推理广泛的主题，但它们的知识仅限于训练时截止的公开数据。当企业需要把LLM应用于实际场景时，需要LLM能基于企业的私有数据做准确的回答。因此必须用模型所需的特定信息来增强模型的知识。将适当的信息引入并插入到模型提示中用了一种称为检索增强生成（RAG）的技术。\n",
        "\n",
        "LangChain是关于RAG最有代表性的开源的架构之一。通过有几个组件，旨在帮助构建问答应用程序和更广泛的RAG应用程序。\n",
        "\n",
        "### RAG 架构\n",
        "一个典型的RAG应用有两个主要的组成部分：\n",
        "\n",
        "* **建立索引**: 一个采集数据并为数据建立索引的管道。这通常在离线状态下完成。.\n",
        "\n",
        "* **检索与生成**: 实际的RAG链在运行时接收用户查询，并从索引中检索出相关数据，随后将这些数据传递给模型。\n",
        "\n",
        "\n"
      ]
    },
    {
      "cell_type": "markdown",
      "metadata": {
        "id": "8c22037c-1702-4944-8f69-332a1e53b434"
      },
      "source": [
        "从原始数据到生成答案的最常见完整流程如下例所示。\n",
        "- **建立索引**\n",
        "1. 加载: 首先，您必须加载您的数据。这一步骤通过以下方式完成 [DocumentLoaders](https://python.langchain.com/docs/modules/data_connection/document_loaders/).\n",
        "\n",
        "2. 分割: [文本分割器](https://python.langchain.com/docs/modules/data_connection/document_transformers/) 将大型“文档”分割成较小的片段。这对于索引数据和将其输入模型都非常有用，因为较大的片段更难搜索，并且无法适应模型的有限上下文窗口.\n",
        "\n",
        "3. 存储: 您需要一个地方来存储和索引您的分割片段，以便后续进行搜索。这通常通过使用一个 [向量数据库](https://python.langchain.com/docs/modules/data_connection/vectorstores/) 以及 [向量嵌入](https://python.langchain.com/docs/modules/data_connection/text_embedding/) 模型.\n",
        "\n",
        "<img src=\"RAG1.png\" width=\"50%\" alt=\"indexing\"/> <br>\n",
        "\n",
        "\n",
        "\n",
        "- **检索与生成**\n",
        "1. 检索: 给定用户输入后，使用检索器从存储中检索出相关的分割片段。\n",
        "2. 生成: 聊天模型/大型语言模型（ChatModel / LLM）通过一个包含问题和检索到的数据的提示来生成答案。\n",
        "\n",
        "<img src=\"RAG2.png\" width=\"50%\" alt=\"retrieval\"/> <br>\n",
        "\n",
        "\n"
      ]
    },
    {
      "cell_type": "markdown",
      "metadata": {
        "id": "80eadfaf-702c-417f-b1b8-5cb673153bb1"
      },
      "source": [
        "## 目标\n",
        "\n",
        "\n",
        " - 验证使用LangChain 实现RAG\n",
        " - 试验不同的分割器，向量嵌入模型，向量数据库，以及LLM的组合.找出在本地部署中文私有数据应用的最优路径。\n"
      ]
    },
    {
      "cell_type": "markdown",
      "metadata": {
        "id": "51f6cce8-4bb5-4be5-bcef-470a0cc414e8"
      },
      "source": [
        "----\n"
      ]
    },
    {
      "cell_type": "markdown",
      "metadata": {
        "id": "25207dd9-55cd-4b74-bca1-e78bc94d722e"
      },
      "source": [
        "## 设置\n"
      ]
    },
    {
      "cell_type": "markdown",
      "metadata": {
        "id": "246f2e42-7f6e-4d99-8ee4-da6aca52f9fc"
      },
      "source": [
        "安装需要的库s:\n",
        "\n",
        "\n",
        "*   [`LangChain`](https://www.langchain.com/) 引用其不同的链以及提示函数\n",
        "*   [`Hugging Face`](https://huggingface.co/models?other=embeddings) and [`Hugging Face Hub`](https://huggingface.co/models?other=embeddings) 使用其向量嵌入功能处理文本数据\n",
        "*   [`SentenceTransformers`](https://www.sbert.net/) for transforming sentences into high-dimensional vectors\n",
        "*   [`Chroma DB`](https://www.trychroma.com/) for efficient storage and retrieval of high-dimensional text vector data\n",
        "*   [`wget`](https://pypi.org/project/wget/) for downloading files from remote systems\n",
        "* [`chromadb`](https://www.trychroma.com/) is a open-source vector database used to store embeddings.\n",
        "* [`faiss-cpu`](https://pypi.org/project/faiss-cpu/) is used to support the using of FAISS vector database.\n"
      ]
    },
    {
      "cell_type": "markdown",
      "metadata": {
        "id": "13a4e3b5-47d8-4294-8ecb-370b2bd2ed18"
      },
      "source": [
        "### 安装需要的库\n",
        "\n",
        "\n",
        "**主意:** 如果没有特别标明，就使用最新的库.\n",
        "\n",
        "\n",
        "\n",
        " `%%capture` 用于屏蔽安装过程的输出.\n"
      ]
    },
    {
      "cell_type": "code",
      "source": [
        "%%capture\n",
        "!pip install langchain\n",
        "!pip install langchain_community\n",
        "!pip install faiss-gpu-cu12\n",
        "!pip install --upgrade transformers\n",
        "!pip install accelerate\n",
        "!pip install bitsandbytes\n",
        "!pip install sentencepiece"
      ],
      "metadata": {
        "id": "24XLvDpngvgs"
      },
      "execution_count": null,
      "outputs": []
    },
    {
      "cell_type": "markdown",
      "metadata": {
        "id": "ba45df13-a8e3-4de5-bf9c-851b396d6622"
      },
      "source": [
        "### 导入库\n",
        "\n"
      ]
    },
    {
      "cell_type": "code",
      "source": [
        "from langchain.document_loaders import TextLoader\n",
        "from langchain.text_splitter import RecursiveCharacterTextSplitter\n",
        "from langchain.embeddings import HuggingFaceEmbeddings\n",
        "from langchain.vectorstores import FAISS\n",
        "from langchain.schema import Document\n",
        "import pandas as pd\n",
        "import os\n",
        "from glob import glob\n",
        "from langchain.llms import HuggingFacePipeline\n",
        "from langchain.prompts import PromptTemplate\n",
        "from langchain.chains import ConversationalRetrievalChain\n",
        "from langchain.memory import ConversationBufferMemory\n",
        "import torch\n",
        "from transformers import AutoTokenizer, AutoModelForCausalLM, pipeline, BitsAndBytesConfig"
      ],
      "metadata": {
        "id": "r3mdiHWArKUl"
      },
      "execution_count": 5,
      "outputs": []
    },
    {
      "cell_type": "markdown",
      "metadata": {
        "id": "78ab4824-c6cc-4579-ac80-2c3a828552da"
      },
      "source": [
        "## 私有数据处理流程\n",
        "### 文档导入\n",
        "\n",
        "这里的流程从文本文档导入开始. 如果有其他非文本资料。前面应该还要加上OCR等对应流程。\n",
        "\n",
        "\n",
        "<img src=\"RAG.png3\" width=\"50%\" alt=\"Load\"/>\n"
      ]
    },
    {
      "cell_type": "code",
      "metadata": {
        "id": "3a9f8573-0bfc-46ca-b5ff-78c877b15112",
        "colab": {
          "base_uri": "https://localhost:8080/"
        },
        "outputId": "26207835-1c4c-4296-ef21-2686ddb04d31"
      },
      "outputs": [
        {
          "output_type": "stream",
          "name": "stdout",
          "text": [
            "一周监管动态汇总（2017年3月第7期0306-0312）.xls/监管政策汇总/Unnamed: 1：发布时间/Unnamed: 2：文件名称/Unnamed: 3：主要内容/Unnamed: 4：简评/Unnamed: 5：链接/Unnamed: 6：过渡期\n",
            "一周监管动态汇总（2017年3月第7期0306-0312）.xls/监管政策汇总/Unnamed: 1：本期无\n",
            "一周监管动态汇总（2017年3月第7期0306-0312）.xls/监管层讲话及问答汇总/Unnamed: 1：发布时间/Unnamed: 2：标题/Unnamed: 3：主要内容/Unnamed: 4：链接\n",
            "一周监管动态汇总（2017年3月第7期0306-0312）.xls/监管层讲话及问答汇总/监管层讲话及问答：上交所/Unnamed: 1：2017-03-10 00:00:00/Unnamed: 2：《关于三只PPP项目资产证券化产品获得上交所确认的答记者问》/Unnamed: 3：问：据了解，今日三只PPP项目资产证券化产品获得上交所挂牌转让无异议函，三只产品作为国家发展改革委和证监会联合发文后的首批PPP项目资产证券化产品，能否介绍一下具体情况？\n",
            "答：中信证券-首创股份污水处理PPP项目收费收益权、华夏幸福固安工业园区新型城镇化PPP项目供热收费收益权、中信建投-网新建投庆春路隧道PPP项目三只资产支持证券符合挂牌转让条件，本所出具无异议函，标志着国家发展改革委和中国证监会推进的传统基础设施领域PPP项目资产证券化产品正式落地。中信证券-首创股份污水处理PPP项目收费收益权资产支持专项计划，由首创股份旗下4家全资水务子公司作为原始权益人，以该等水务子公司持有的污水处理PPP项目项下的污水处理收费收益权为基础资产，产品总规模5.3亿元，其中优先级规模5亿元，获AAA评级。华夏幸福固安工业园区新型城镇化PPP项目供热收费收益权资产支持专项计划，以华夏幸福全资子公司九通公用事业在固安工业园区内未来6年向供热用户收取供热收费的收益权为基础资产，产品总规模7.06亿元，其中优先级6.7亿元，获AAA评级。中信建投-网新建投庆春路隧道PPP项目资产支持专项计划，以浙江浙大网新集团有限公司下属子公司拥有的杭州市庆春路隧道专营权合同债权作为基础资产，产品总规模11.58亿元，其中优先级11亿元，获AAA评级。根据本所相关通知，上交所对于符合条件的优质PPP项目资产证券化产品实行业务受理及评审的绿色通道，首批PPP项目资产证券化产品由专人负责即报即审。下一步，上交所将认真落实《政府工作报告》关于促进企业盘活存量资产，推进资产证券化的要求，持续推动PPP项目融资方式创新，支持PPP项目企业及相关中介机构开展PPP项目资产证券化业务，继续发挥交易所债券市场支持服务实体经济的作用，保障PPP项目资产证券化持续健康发展。/Unnamed: 4：http://www.sse.com.cn/aboutus/mediacenter/hotandd/c/c_20170310_4248012.shtml\n",
            "一周监管动态汇总（2017年3月第7期0306-0312）.xls/监管层讲话及问答汇总/监管层讲话及问答：人行/Unnamed: 1：2017-03-10 00:00:00/Unnamed: 2：中国人民银行行长周小川等就“金融改革与发展”答记者问/Unnamed: 3：1.问：2017年央行有哪些工作保障汇率的稳定？\n",
            "答：我们相信，今年随着中国经济比较稳定，而且更加健康，供给侧结构性改革、“三去一降一补”都取得成绩，国际上对中国经济的信心也比较好，汇率自动就有一个稳定的趋势。我们有关政策方面没有什么太大的变化，今年的人民币汇率应该比较稳定。但正常的汇率波动是一个常态，也是一个正常的情况。\n",
            "2.央行目前正在牵头统一资产管理业务的标准和规制，出台统一监管标准的初衷是什么？将围绕哪些方面规范资产管理业务？政策将何时出台？\n",
            "答：2年前已组成金融监管协调部际联席会议的协调机制，资产管理问题，有人称之为理财产品问题，因为资产管理中有很大部分是理财产品。人行、银监、证监、保监、外管已在许多较大问题上初步达成一致。重点解决：一是理财产品市场标准差距太大、套利机会太多、投机性过强；二是监管之间通气不够；三是资产管理产品或者理财产品嵌套运行，就是从金融系统一个行业的一个公司到了另外一个行业的一个公司的问题。金融监管协调机制会朝着这个方向努力，还可能提高到更有效的层次。\n",
            "4.中国债券市场的开放步子是否会更快一些，会有大的举动？\n",
            "答：在对外开放方面，会逐步再取得更明显的进展。开放在两个维度上进行：一是境外机构到中国市场发行债券，也就是我们通常所说的“熊猫债”。二是推动了境外机构投资中国的债券市场。\n",
            "5.人民银行利用各种是否会加剧实体经济“融资贵、融资难”的情况？\n",
            "答：这个现象还是始终存在的，但是中小企业、小微企业的融资比例实际上每年都是在上升的。目前贷款余额大型企业、中型企业和小微企业三分天下，基本上都是三分之一。银行业、金融业也在做供给侧结构性改革，更多地面向中型企业、小微企业。融资难的问题会逐渐有所缓解。价格问题跟物价和其他因素有关。\n",
            "其他问题：去杠杆、非银行支付、信贷增长、数字普惠金融、外汇储备降低、跨境直接投资、人民币汇率。/Unnamed: 4：http://www.pbc.gov.cn/goutongjiaoliu/113456/113469/3269620/index.html\n",
            "一周监管动态汇总（2017年3月第7期0306-0312）.xls/案例汇总/业务种类：投行业务/发布时间：2017-03-06 00:00:00/案例类型：持续督导及提供财务顾问服务未尽职/案件概况：湘财证券为上海盟云移软网络科技股份有限公司重大资产重组提供独立财务顾问服务，同时担任其主办券商，未能督促盟云公司按照《非上市公众公司重大资产重组管理办法》的规定履行相关程序，在明知本次重大资产重组存在重大程序瑕疵的情况下，仍为重大资产重组出具独立财务顾问报告，认为“重组资产权属清晰，资产过户或转移不存在法律障碍”。北京市大成（深圳）律师事务所提供法律服务过程中也存在上述问题。/处罚措施：出具警示函、提交书面承诺/案例警示：健全内控制度，在持续督导及提供财务顾问服务过程中，遵守相关法律和市场规则/链接：http://www.neeq.com.cn/uploads/1/file/public/201703/20170306092556_aiperts5rd.pdf\n",
            "一周监管动态汇总（2017年3月第7期0306-0312）.xls/案例汇总/业务种类：经纪业务/发布时间：2017-03-07 00:00:00\n",
            "一周监管动态汇总（2017年3月第7期0306-0312）.xls/案例汇总/业务种类：投行业务/发布时间：2017-03-10 00:00:00/案例类型：主办券商未能保证申请挂牌文件信息披露真实、准确、完整/案件概况：海通证券在推荐杭州天元宠物用品股份有限公司挂牌过程中，未能发现天元宠物资金往来和关联交易未披露事项/处罚措施：提交书面承诺/案例警示：健全内控制度，在提供服务过程中充分尽职，确保信息真实准确完整/链接：http://www.neeq.com.cn/uploads/1/file/public/201703/20170310155734_mnxtd2l9ps.pdf\n",
            "一周监管动态汇总（2017年3月第7期0306-0312）.xls/案例汇总/业务种类：投行业务/发布时间：2017-03-10 00:00:00/案例类型：主办券商未充分进行尽职调查/案件概况：万联证券在推荐河南华鑫漯阜物流股份有限公司挂牌过程中，未尽职进行调查，未发现华鑫物流成立参股公司并增资事项。/处罚措施：提交书面承诺/案例警示：健全内控制度，在提供服务过程中充分尽职，确保信息真实准确完整/链接：http://www.neeq.com.cn/uploads/1/file/public/201703/20170310160019_xjk2exg0f7.pdf\n",
            "一周监管动态汇总（2017年3月第7期0306-0312）.xls/案例汇总/业务种类：投行业务/发布时间：2017-03-10 00:00:00/案例类型：信息披露违规/案件概况：东吴证券在推荐厦门欢乐逛科技股份有限公司挂牌过程中，未披露欢乐逛向关联人借款事宜。/处罚措施：提交书面承诺/案例警示：依规披露信息/链接：http://www.neeq.com.cn/uploads/1/file/public/201703/20170310160414_v5fyeylfq3.pdf\n",
            "一周监管动态汇总（2017年3月第7期0306-0312）.xls/案例汇总/业务种类：交易场所/发布时间：2017-03-06 00:00:00/案例类型：未经国家期货监督管理机构批准，无合法期货交易经营权，为个人客户提供实质上的期货交易服务/案件概况：兰州市中级人民法院、甘肃省高级人民法院分别对兰州西部商品交易中心有限公司、兰州圣大商品交易有限公司与金某交易纠纷一案进行了审理，认定兰州西部商品交易中心有限公司从事非法期货交易并依法判决其返还投资者的投资款。/处罚措施：交易行为确认无效，西部交易中心、圣大公司共同承担投资者出入金差额资金的返还责任/案例警示：地方商品交易场所应合规经营/链接：http://www.csrc.gov.cn/pub/zjhpublicofsax/other/201703/t20170306_313140.htm\n",
            "一周监管动态汇总（2017年3月第7期0306-0312）.xls/投行业务/时间：2017-03-10 00:00:00/标题：深交所完成首单PPP资产证券化项目论证工作/主要内容：“广发恒进-广晟东江环保虎门绿源PPP项目资产支持专项计划”(以下简称“绿源PPP专项”)于2017年3月8日获深交所正式受理，3月10日完成论证工作，并拟于近期发行。专项计划拟发行规模3.2亿元，由广发证券资产管理（广东）有限公司作为管理人，以东莞市虎门绿源水务有限公司污水处理收费收益权作为基础资产。/链接：http://www.szse.cn/main/aboutus/bsyw/39766746.shtml\n",
            "一周监管动态汇总（2017年3月第7期0306-0312）.xls/其他/时间：2017-03-07 00:00:00/标题：新三板市场操纵行为呈现六大趋势 证监会持续打击/主要内容：新三板市场操纵行为六大趋势主要为：一是操纵行为参与主体多样，除了投资者外，还有挂牌公司、挂牌公司的控股股东及高管、做市商、做市业务人员等，覆盖市场各类参与方。二是多方合谋共同实施操纵，借助“联盟”实现操纵优势互补，利益均沾，各取所需。三是操纵市场动机不仅局限于赚取操纵价差获利，还有如为了实现定向增发融资、为了进入或维持在创新层，抑或是做市商业务部门或个人为了完成公司业绩考核要求，甚至是相关方面为了满足对赌协议条款。\n",
            "四是操纵行为“本小利大”，新三板挂牌公司，股本小，流通股更少，以动用少量的资金、账户即可快速完成操纵。五是操纵手法更趋隐蔽，新三板做市交易和协议交易的特殊交易机制，操纵行为的交易遁形于做市交易或双方自行商定的协议交易中，难以被发现和区分。六是操纵手法花样繁多，操纵不仅可以用传统的优势和手段，除了以往的利用资金优势、持股优势、信息优势进行连续交易或约定交易、洗售交易之外，行为人还开始通过挂牌公司发布利好消息，通过“做市商地位优势”、向投资者推介等方式进行信息操纵或其他新型操纵。/链接：http://www.sac.net.cn/hyfw/hydt/201703/t20170307_130639.html\n",
            "一周监管动态汇总（2017年3月第7期0306-0312）.xls/其他/时间：2017-03-07 00:00:00/标题：违规私募有六个“标签” 投资者需额外关注谨慎投资 \n",
            "/主要内容：广东证监局相关人士指出，通过调查发现，私募机构常见的违法违规行为包括：\n",
            "1.向不特定对象公开宣传和推介私募基金产品。通过公司网站、微信等方式向不特定对象宣传推介私募基金产品；公司网站未设定特定对象的确定程序，非特定对象均可点击阅读产品；部分私募机构与第三方机构平台合作，推介产品未备案或不存在，信息虚假。\n",
            "2.私募机构未按规定办理基金产品备案手续。如设立以投资为目的有限合伙企业，由私募机构担任普通合伙人，向投资者非公开募集资金(有限合伙企业份额)。实际上属于有限合伙型私募基金产品，但私募机构经常不将这种产品办理备案。\n",
            "3.私募机构募集时未对投资者进行有效风险测评，并向不合格投资者募集资金。也存在部分私募机构通过一些互联网平台开展私募投资基金或私募产品收益权的拆分转让业务。\n",
            "4.私募机构投资运作行为违规，挪用或侵占基金财产，未将募集资金进行专户存管，违反合同约定列支费用、进行利益输送等。\n",
            "5.部分私募机构管理的私募基金存在保本保收益情形。如约定的分期支付利息和收益，以及期末大股东约定回购的条款，涉嫌变相或暗示承诺保底保收益。\n",
            "6.私募机构二级市场证券投资行为违法违规。/链接：http://www.sac.net.cn/hyfw/hydt/201703/t20170307_130640.html\n",
            "一周监管动态汇总（2017年3月第7期0306-0312）.xls/其他/时间：2017-03-08 00:00:00/标题：姜洋：正积极完善退市标准 该退则退/主要内容：中国证监会副主席姜洋7日表示，目前监管部门正在积极修改、完善退市标准，同时要加强交易所一线监管，交易所要负起责任，依法依规，该退市就要退市。证监会对退市工作提出四点要求：一是加强信息披露，防止财务造假；二是要求中介机构尽到“看门人”的责任；三是修改完善退市标准，现在正在积极做这方面工作；四是加强交易所一线监管，交易所要真正负起责任，依法依规，该退市就要退市。\n",
            "/链接：http://www.sac.net.cn/hyfw/hydt/201703/t20170308_130667.html\n",
            "一周监管动态汇总（2017年3月第7期0306-0312）.xls/其他/时间：2017-03-10 00:00:00/标题：吴晓灵：证券法修订更多体现四方面内容/主要内容：　其一，完善基本交易制度，包括完善证券的发行、交易、登记、结算、退市等制度；其二，为多层次资本市场发展留下制度空间，为企业更方便地进行股本融资提供渠道；其三，更好地进行投资者保护，对于违法违规行为打击力度增强，投资者利益损失补偿、法律救济渠道、行政救济渠道等内容增加；其四，进一步明确市场规则。资本市场最核心的就是信息真实、全面地披露，对于信息披露违法违规、市场操纵等将加大打击力度，加强监管当局的稽查手段，严肃市场纪律。/链接：http://www.sac.net.cn/hyfw/hydt/201703/t20170310_130679.html\n",
            "一周监管动态汇总（2017年3月第7期0306-0312）.xls/其他/时间：2017-03-10 00:00:00/标题：粮食物流业“十三五”规划印发 支持粮食物流企业拓宽融资渠道/主要内容：国家发展改革委、国家粮食局日前印发《粮食物流业“十三五”发展规划》。要求积极探索政府资金引导社会资金资本参与粮食物流设施建设的新机制，形成多元化、多渠道、多层次的投融资体系。支持粮食物流企业运用多种方式拓宽融资渠道，鼓励符合条件的企业通过发行债券和上市等方式进行融资。鼓励社会资金以PPP等方式投资粮食物流基础设施建设。鼓励社会资本通过成立粮食流通产业创业投资基金，投资粮食物流装备、信息化等领域中小科技型企业。/链接：http://news.cnstock.com/news,bwkx-201703-4046892.htm\n",
            "一周监管动态汇总（2017年3月第7期0306-0312）.xls/其他/时间：2017-03-10 00:00:00/标题：交易场所联动监管祭出组合拳：部署回头看、拟定黑名单、下发核查函/主要内容：地方由地方金融办牵头，会同地方交易场所清理整顿工作领导小组各成员单位落实‘回头看’工作，进一步清理顿地方各类交易场所，切实防范金融风险。地方监管部门已经初步拟定了”黑名单“。各省级人民政府将于3月15曰前公布辖区内违法违规交易场所“黑名单”。按现有监管要求，商品类交易场所及交易品种的设置应立足现货，具有产业背景和物流等配套措施，不得上线与当地产业无关的交易品种，交易必须全款实货，交易客户限定为行业内企业。首先是交易场所不得开展分散式柜台交易模式和现货发售模式，限期停止贵金属、石油等采取期货形式交易的违规交易品种。其次，限期停止邮币卡、茶叶、珠宝玉石等采取集合竞价、连续竞价、电子撮合交易，操纵市场、恶性炒作的违规交易品种。三是全面停止“微盘”交易。/链接：http://news.cnstock.com/news,yw-201703-4046310.htm\n"
          ]
        }
      ],
      "source": [
        "import pandas as pd\n",
        "import os\n",
        "\n",
        "def load_excel_to_paragraphs(file_path):\n",
        "    \"\"\"\n",
        "    从一个Excel文件中加载所有工作表，并将每一行转换为指定格式的文本段落。\n",
        "\n",
        "    格式： 文件名/工作表名/列1名：内容/列2名：内容/...\n",
        "    \"\"\"\n",
        "    # 获取Excel文件的文件名（包括扩展名）\n",
        "    file_name = os.path.basename(file_path)\n",
        "\n",
        "    # 使用ExcelFile加载整个Excel文件（支持多个worksheet）\n",
        "    xls = pd.ExcelFile(file_path)\n",
        "    paragraphs = []\n",
        "\n",
        "    # 遍历每个worksheet\n",
        "    for sheet_name in xls.sheet_names:\n",
        "        # 读取当前工作表为DataFrame\n",
        "        df = pd.read_excel(xls, sheet_name=sheet_name)\n",
        "        # 如果当前工作表为空，则跳过\n",
        "        if df.empty:\n",
        "            continue\n",
        "\n",
        "        # 遍历DataFrame的每一行\n",
        "        for index, row in df.iterrows():\n",
        "            # 构造一个列表存储当前行的各列信息\n",
        "            row_parts = []\n",
        "            for col in df.columns:\n",
        "                value = row[col]\n",
        "                # 如果该单元格不为空，则格式化为“列名：内容”\n",
        "                if pd.notna(value):\n",
        "                    row_parts.append(f\"{col}：{value}\")\n",
        "            # 如果当前行有有效内容，则构造完整的段落\n",
        "            if row_parts:\n",
        "                paragraph = f\"{file_name}/{sheet_name}/\" + \"/\".join(row_parts)\n",
        "                paragraphs.append(paragraph)\n",
        "    return paragraphs\n",
        "\n",
        "# 示例使用：请将file_path替换为你的Excel文件路径\n",
        "file_path = \"/content/drive/My Drive/AInew/data/一周监管动态汇总（2017年3月第7期0306-0312）.xls\"\n",
        "paragraphs = load_excel_to_paragraphs(file_path)\n",
        "\n",
        "# 输出所有生成的段落\n",
        "for para in paragraphs:\n",
        "    print(para)\n"
      ],
      "execution_count": 6
    },
    {
      "cell_type": "code",
      "source": [
        "len(paragraphs)"
      ],
      "metadata": {
        "colab": {
          "base_uri": "https://localhost:8080/"
        },
        "id": "UuQ1kRfQCLA1",
        "outputId": "0405cf1b-f93b-41c4-9a70-95e67fc3e179"
      },
      "execution_count": 7,
      "outputs": [
        {
          "output_type": "execute_result",
          "data": {
            "text/plain": [
              "18"
            ]
          },
          "metadata": {},
          "execution_count": 7
        }
      ]
    },
    {
      "cell_type": "markdown",
      "metadata": {
        "id": "d8e462ca-97c7-48f8-aa1d-62b21bb811f2"
      },
      "source": [
        "### 把文本分割成(Split)小片段(chunks)\n"
      ]
    },
    {
      "cell_type": "markdown",
      "metadata": {
        "id": "e56efc29-358f-4a13-85ec-4a08348f9c05"
      },
      "source": [
        "在这一步，把文本分割成小片段。这属于建立检索中的分割步骤。\n",
        "<img src=\"RAG4.png\" width=\"50%\" alt=\"split\"/>\n"
      ]
    },
    {
      "cell_type": "markdown",
      "metadata": {
        "id": "47b745d0-7dd7-4bbb-87f8-043a0361b186"
      },
      "source": [
        "LangChain 用于分割文档并创建块。它帮助你将一个长文档分成更小的部分，这些部分被称为块，以便更容易处理。\n",
        "\n",
        "在分割过程中，目标是确保每个段落在你数到一定数量的字符并遇到分割符时尽可能完整。这个特定的数量被称为块大小。在这个项目中，我们将块大小设置为500。这里采用 LangChain 内置的 RecursiveCharacterTextSplitter，并针对中文文本指定常用标点作为分隔符。\n"
      ]
    },
    {
      "cell_type": "code",
      "metadata": {
        "id": "7f39f1f4-4a5c-445f-820b-b73430938667",
        "colab": {
          "base_uri": "https://localhost:8080/"
        },
        "outputId": "b27b27fd-c300-4a55-9c85-867a4feccb91"
      },
      "outputs": [
        {
          "output_type": "stream",
          "name": "stdout",
          "text": [
            "文本切分结果：\n",
            "【块 1】 一周监管动态汇总（2017年3月第7期0306-0312）.xls/监管政策汇总/Unnamed: 1：发布时间/Unnamed: 2：文件名称/Unnamed: 3：主要内容/Unnamed: 4：简评/Unnamed: 5：链接/Unnamed: 6：过渡期\n",
            "【块 2】 一周监管动态汇总（2017年3月第7期0306-0312）.xls/监管政策汇总/Unnamed: 1：本期无\n",
            "【块 3】 一周监管动态汇总（2017年3月第7期0306-0312）.xls/监管层讲话及问答汇总/Unnamed: 1：发布时间/Unnamed: 2：标题/Unnamed: 3：主要内容/Unnamed: 4：链接\n",
            "【块 4】 一周监管动态汇总（2017年3月第7期0306-0312）.xls/监管层讲话及问答汇总/监管层讲话及问答：上交所/Unnamed: 1：2017-03-10 00:00:00/Unnamed: 2：《关于三只PPP项目资产证券化产品获得上交所确认的答记者问》/Unnamed: 3：问：据了解，今日三只PPP项目资产证券化产品获得上交所挂牌转让无异议函，三只产品作为国家发展改革委和证监会联合发文后的首批PPP项目资产证券化产品，能否介绍一下具体情况？\n",
            "答：中信证券-首创股份污水处理PPP项目收费收益权、华夏幸福固安工业园区新型城镇化PPP项目供热收费收益权、中信建投-网新建投庆春路隧道PPP项目三只资产支持证券符合挂牌转让条件，本所出具无异议函，标志着国家发展改革委和中国证监会推进的传统基础设施领域PPP项目资产证券化产品正式落地。中信证券-首创股份污水处理PPP项目收费收益权资产支持专项计划，由首创股份旗下4家全资水务子公司作为原始权益人，以该等水务子公司持有的污水处理PPP项目项下的污水处理收费收益权为基础资产，产品总规模5.3亿元，其中优先级规模5亿元，获AAA评级。华夏幸福固安工业园区新型城镇化PPP项目供热收费收益权资产支持专项计划，以华夏幸福全资子公司九通公用事业在固安工业园区内未来6年向供热用户收取供热收费的收益权为基础资产，产品总规模7.06亿元，其中优先级6.7亿元，获AAA评级。中信建投-网新建投庆春路隧道PPP项目资产支持专项计划，以浙江浙大网新集团有限公司下属子公司拥有的杭州市庆春路隧道专营权合同债权作为基础资产，产品总规模11.58亿元，其中优先级11亿元，获AAA评级。根据本所相关通知，上交所对于符合条件的优质PPP项目资产证券化产品实行业务受理及评审的绿色通道，首批PPP项目资产证券化产品由专人负责即报即审。下一步，上交所将认真落实《政府工作报告》关于促进企业盘活存量资产，推进资产证券化的要求，持续推动PPP项目融资方式创新，支持PPP项目企业及相关中介机构开展PPP项目资产证券化业务，继续发挥交易所债券市场支持服务实体经济的作用，保障PPP项目资产证券化持续健康发展\n",
            "【块 5】 。/Unnamed: 4：http://www.sse.com.cn/aboutus/mediacenter/hotandd/c/c_20170310_4248012.shtml\n",
            "【块 6】 一周监管动态汇总（2017年3月第7期0306-0312）.xls/监管层讲话及问答汇总/监管层讲话及问答：人行/Unnamed: 1：2017-03-10 00:00:00/Unnamed: 2：中国人民银行行长周小川等就“金融改革与发展”答记者问/Unnamed: 3：1.问：2017年央行有哪些工作保障汇率的稳定？\n",
            "答：我们相信，今年随着中国经济比较稳定，而且更加健康，供给侧结构性改革、“三去一降一补”都取得成绩，国际上对中国经济的信心也比较好，汇率自动就有一个稳定的趋势。我们有关政策方面没有什么太大的变化，今年的人民币汇率应该比较稳定。但正常的汇率波动是一个常态，也是一个正常的情况。\n",
            "2.央行目前正在牵头统一资产管理业务的标准和规制，出台统一监管标准的初衷是什么？将围绕哪些方面规范资产管理业务？政策将何时出台？\n",
            "答：2年前已组成金融监管协调部际联席会议的协调机制，资产管理问题，有人称之为理财产品问题，因为资产管理中有很大部分是理财产品。人行、银监、证监、保监、外管已在许多较大问题上初步达成一致。重点解决：一是理财产品市场标准差距太大、套利机会太多、投机性过强；二是监管之间通气不够；三是资产管理产品或者理财产品嵌套运行，就是从金融系统一个行业的一个公司到了另外一个行业的一个公司的问题。金融监管协调机制会朝着这个方向努力，还可能提高到更有效的层次。\n",
            "4.中国债券市场的开放步子是否会更快一些，会有大的举动？\n",
            "答：在对外开放方面，会逐步再取得更明显的进展。开放在两个维度上进行：一是境外机构到中国市场发行债券，也就是我们通常所说的“熊猫债”。二是推动了境外机构投资中国的债券市场。\n",
            "5.人民银行利用各种是否会加剧实体经济“融资贵、融资难”的情况？\n",
            "答：这个现象还是始终存在的，但是中小企业、小微企业的融资比例实际上每年都是在上升的。目前贷款余额大型企业、中型企业和小微企业三分天下，基本上都是三分之一。银行业、金融业也在做供给侧结构性改革，更多地面向中型企业、小微企业。融资难的问题会逐渐有所缓解。价格问题跟物价和其他因素有关。\n",
            "其他问题：去杠杆、非银行支付、信贷增长、数字普惠金融、外汇储备降低、跨境直接投资、人民币汇率\n",
            "【块 7】 。/Unnamed: 4：http://www.pbc.gov.cn/goutongjiaoliu/113456/113469/3269620/index.html\n",
            "【块 8】 一周监管动态汇总（2017年3月第7期0306-0312）.xls/案例汇总/业务种类：投行业务/发布时间：2017-03-06 00:00:00/案例类型：持续督导及提供财务顾问服务未尽职/案件概况：湘财证券为上海盟云移软网络科技股份有限公司重大资产重组提供独立财务顾问服务，同时担任其主办券商，未能督促盟云公司按照《非上市公众公司重大资产重组管理办法》的规定履行相关程序，在明知本次重大资产重组存在重大程序瑕疵的情况下，仍为重大资产重组出具独立财务顾问报告，认为“重组资产权属清晰，资产过户或转移不存在法律障碍”。北京市大成（深圳）律师事务所提供法律服务过程中也存在上述问题。/处罚措施：出具警示函、提交书面承诺/案例警示：健全内控制度，在持续督导及提供财务顾问服务过程中，遵守相关法律和市场规则/链接：http://www.neeq.com.cn/uploads/1/file/public/201703/20170306092556_aiperts5rd.pdf\n",
            "【块 9】 一周监管动态汇总（2017年3月第7期0306-0312）.xls/案例汇总/业务种类：经纪业务/发布时间：2017-03-07 00:00:00\n",
            "【块 10】 一周监管动态汇总（2017年3月第7期0306-0312）.xls/案例汇总/业务种类：投行业务/发布时间：2017-03-10 00:00:00/案例类型：主办券商未能保证申请挂牌文件信息披露真实、准确、完整/案件概况：海通证券在推荐杭州天元宠物用品股份有限公司挂牌过程中，未能发现天元宠物资金往来和关联交易未披露事项/处罚措施：提交书面承诺/案例警示：健全内控制度，在提供服务过程中充分尽职，确保信息真实准确完整/链接：http://www.neeq.com.cn/uploads/1/file/public/201703/20170310155734_mnxtd2l9ps.pdf\n",
            "【块 11】 一周监管动态汇总（2017年3月第7期0306-0312）.xls/案例汇总/业务种类：投行业务/发布时间：2017-03-10 00:00:00/案例类型：主办券商未充分进行尽职调查/案件概况：万联证券在推荐河南华鑫漯阜物流股份有限公司挂牌过程中，未尽职进行调查，未发现华鑫物流成立参股公司并增资事项。/处罚措施：提交书面承诺/案例警示：健全内控制度，在提供服务过程中充分尽职，确保信息真实准确完整/链接：http://www.neeq.com.cn/uploads/1/file/public/201703/20170310160019_xjk2exg0f7.pdf\n",
            "【块 12】 一周监管动态汇总（2017年3月第7期0306-0312）.xls/案例汇总/业务种类：投行业务/发布时间：2017-03-10 00:00:00/案例类型：信息披露违规/案件概况：东吴证券在推荐厦门欢乐逛科技股份有限公司挂牌过程中，未披露欢乐逛向关联人借款事宜。/处罚措施：提交书面承诺/案例警示：依规披露信息/链接：http://www.neeq.com.cn/uploads/1/file/public/201703/20170310160414_v5fyeylfq3.pdf\n",
            "【块 13】 一周监管动态汇总（2017年3月第7期0306-0312）.xls/案例汇总/业务种类：交易场所/发布时间：2017-03-06 00:00:00/案例类型：未经国家期货监督管理机构批准，无合法期货交易经营权，为个人客户提供实质上的期货交易服务/案件概况：兰州市中级人民法院、甘肃省高级人民法院分别对兰州西部商品交易中心有限公司、兰州圣大商品交易有限公司与金某交易纠纷一案进行了审理，认定兰州西部商品交易中心有限公司从事非法期货交易并依法判决其返还投资者的投资款。/处罚措施：交易行为确认无效，西部交易中心、圣大公司共同承担投资者出入金差额资金的返还责任/案例警示：地方商品交易场所应合规经营/链接：http://www.csrc.gov.cn/pub/zjhpublicofsax/other/201703/t20170306_313140.htm\n",
            "【块 14】 一周监管动态汇总（2017年3月第7期0306-0312）.xls/投行业务/时间：2017-03-10 00:00:00/标题：深交所完成首单PPP资产证券化项目论证工作/主要内容：“广发恒进-广晟东江环保虎门绿源PPP项目资产支持专项计划”(以下简称“绿源PPP专项”)于2017年3月8日获深交所正式受理，3月10日完成论证工作，并拟于近期发行。专项计划拟发行规模3.2亿元，由广发证券资产管理（广东）有限公司作为管理人，以东莞市虎门绿源水务有限公司污水处理收费收益权作为基础资产。/链接：http://www.szse.cn/main/aboutus/bsyw/39766746.shtml\n",
            "【块 15】 一周监管动态汇总（2017年3月第7期0306-0312）.xls/其他/时间：2017-03-07 00:00:00/标题：新三板市场操纵行为呈现六大趋势 证监会持续打击/主要内容：新三板市场操纵行为六大趋势主要为：一是操纵行为参与主体多样，除了投资者外，还有挂牌公司、挂牌公司的控股股东及高管、做市商、做市业务人员等，覆盖市场各类参与方。二是多方合谋共同实施操纵，借助“联盟”实现操纵优势互补，利益均沾，各取所需。三是操纵市场动机不仅局限于赚取操纵价差获利，还有如为了实现定向增发融资、为了进入或维持在创新层，抑或是做市商业务部门或个人为了完成公司业绩考核要求，甚至是相关方面为了满足对赌协议条款。\n",
            "四是操纵行为“本小利大”，新三板挂牌公司，股本小，流通股更少，以动用少量的资金、账户即可快速完成操纵。五是操纵手法更趋隐蔽，新三板做市交易和协议交易的特殊交易机制，操纵行为的交易遁形于做市交易或双方自行商定的协议交易中，难以被发现和区分。六是操纵手法花样繁多，操纵不仅可以用传统的优势和手段，除了以往的利用资金优势、持股优势、信息优势进行连续交易或约定交易、洗售交易之外，行为人还开始通过挂牌公司发布利好消息，通过“做市商地位优势”、向投资者推介等方式进行信息操纵或其他新型操纵。/链接：http://www.sac.net.cn/hyfw/hydt/201703/t20170307_130639.html\n",
            "【块 16】 一周监管动态汇总（2017年3月第7期0306-0312）.xls/其他/时间：2017-03-07 00:00:00/标题：违规私募有六个“标签” 投资者需额外关注谨慎投资 \n",
            "/主要内容：广东证监局相关人士指出，通过调查发现，私募机构常见的违法违规行为包括：\n",
            "1.向不特定对象公开宣传和推介私募基金产品。通过公司网站、微信等方式向不特定对象宣传推介私募基金产品；公司网站未设定特定对象的确定程序，非特定对象均可点击阅读产品；部分私募机构与第三方机构平台合作，推介产品未备案或不存在，信息虚假。\n",
            "2.私募机构未按规定办理基金产品备案手续。如设立以投资为目的有限合伙企业，由私募机构担任普通合伙人，向投资者非公开募集资金(有限合伙企业份额)。实际上属于有限合伙型私募基金产品，但私募机构经常不将这种产品办理备案。\n",
            "3.私募机构募集时未对投资者进行有效风险测评，并向不合格投资者募集资金。也存在部分私募机构通过一些互联网平台开展私募投资基金或私募产品收益权的拆分转让业务。\n",
            "4.私募机构投资运作行为违规，挪用或侵占基金财产，未将募集资金进行专户存管，违反合同约定列支费用、进行利益输送等。\n",
            "5.部分私募机构管理的私募基金存在保本保收益情形。如约定的分期支付利息和收益，以及期末大股东约定回购的条款，涉嫌变相或暗示承诺保底保收益。\n",
            "6.私募机构二级市场证券投资行为违法违规。/链接：http://www.sac.net.cn/hyfw/hydt/201703/t20170307_130640.html\n",
            "【块 17】 一周监管动态汇总（2017年3月第7期0306-0312）.xls/其他/时间：2017-03-08 00:00:00/标题：姜洋：正积极完善退市标准 该退则退/主要内容：中国证监会副主席姜洋7日表示，目前监管部门正在积极修改、完善退市标准，同时要加强交易所一线监管，交易所要负起责任，依法依规，该退市就要退市。证监会对退市工作提出四点要求：一是加强信息披露，防止财务造假；二是要求中介机构尽到“看门人”的责任；三是修改完善退市标准，现在正在积极做这方面工作；四是加强交易所一线监管，交易所要真正负起责任，依法依规，该退市就要退市。\n",
            "/链接：http://www.sac.net.cn/hyfw/hydt/201703/t20170308_130667.html\n",
            "【块 18】 一周监管动态汇总（2017年3月第7期0306-0312）.xls/其他/时间：2017-03-10 00:00:00/标题：吴晓灵：证券法修订更多体现四方面内容/主要内容：　其一，完善基本交易制度，包括完善证券的发行、交易、登记、结算、退市等制度；其二，为多层次资本市场发展留下制度空间，为企业更方便地进行股本融资提供渠道；其三，更好地进行投资者保护，对于违法违规行为打击力度增强，投资者利益损失补偿、法律救济渠道、行政救济渠道等内容增加；其四，进一步明确市场规则。资本市场最核心的就是信息真实、全面地披露，对于信息披露违法违规、市场操纵等将加大打击力度，加强监管当局的稽查手段，严肃市场纪律。/链接：http://www.sac.net.cn/hyfw/hydt/201703/t20170310_130679.html\n",
            "【块 19】 一周监管动态汇总（2017年3月第7期0306-0312）.xls/其他/时间：2017-03-10 00:00:00/标题：粮食物流业“十三五”规划印发 支持粮食物流企业拓宽融资渠道/主要内容：国家发展改革委、国家粮食局日前印发《粮食物流业“十三五”发展规划》。要求积极探索政府资金引导社会资金资本参与粮食物流设施建设的新机制，形成多元化、多渠道、多层次的投融资体系。支持粮食物流企业运用多种方式拓宽融资渠道，鼓励符合条件的企业通过发行债券和上市等方式进行融资。鼓励社会资金以PPP等方式投资粮食物流基础设施建设。鼓励社会资本通过成立粮食流通产业创业投资基金，投资粮食物流装备、信息化等领域中小科技型企业。/链接：http://news.cnstock.com/news,bwkx-201703-4046892.htm\n",
            "【块 20】 一周监管动态汇总（2017年3月第7期0306-0312）.xls/其他/时间：2017-03-10 00:00:00/标题：交易场所联动监管祭出组合拳：部署回头看、拟定黑名单、下发核查函/主要内容：地方由地方金融办牵头，会同地方交易场所清理整顿工作领导小组各成员单位落实‘回头看’工作，进一步清理顿地方各类交易场所，切实防范金融风险。地方监管部门已经初步拟定了”黑名单“。各省级人民政府将于3月15曰前公布辖区内违法违规交易场所“黑名单”。按现有监管要求，商品类交易场所及交易品种的设置应立足现货，具有产业背景和物流等配套措施，不得上线与当地产业无关的交易品种，交易必须全款实货，交易客户限定为行业内企业。首先是交易场所不得开展分散式柜台交易模式和现货发售模式，限期停止贵金属、石油等采取期货形式交易的违规交易品种。其次，限期停止邮币卡、茶叶、珠宝玉石等采取集合竞价、连续竞价、电子撮合交易，操纵市场、恶性炒作的违规交易品种。三是全面停止“微盘”交易。/链接：http://news.cnstock.com/news,yw-201703-4046310.htm\n"
          ]
        }
      ],
      "source": [
        "\n",
        "# 创建文本切分器\n",
        "# 注意：separators 参数顺序很重要，优先级高的分隔符应放在前面\n",
        "text_splitter = RecursiveCharacterTextSplitter(\n",
        "    chunk_size=1000,         # 每个文本块最大128个字符\n",
        "    chunk_overlap=20,       # 每个块之间重叠20个字符\n",
        "    separators=[\"\\n\\n\", \"。\", \"！\", \"？\", \"\\n\"]  # 分隔符按优先级排序\n",
        ")\n",
        "\n",
        "chunks = []\n",
        "# 针对每个段落单独进行切分，并将结果追加到chunks列表中\n",
        "for paragraph in paragraphs:\n",
        "    result = text_splitter.split_text(paragraph)\n",
        "    chunks.extend(result)\n",
        "\n",
        "print(\"文本切分结果：\")\n",
        "for i, chunk in enumerate(chunks, start=1):\n",
        "    print(f\"【块 {i}】 {chunk}\")\n"
      ],
      "execution_count": 8
    },
    {
      "cell_type": "markdown",
      "metadata": {
        "id": "2aabb8d1-d934-49d8-8b4f-f84fd00dbb78"
      },
      "source": [
        "### 向量嵌入与存储\n",
        "This step is the `embed` and `store` processes in `Indexing`. <br>\n",
        "<img src=\"https://cf-courses-data.s3.us.cloud-object-storage.appdomain.cloud/u_oJz3v2cSR_lr0YvU6PaA.png\" width=\"50%\" alt=\"split\"/>\n"
      ]
    },
    {
      "cell_type": "markdown",
      "metadata": {
        "id": "095bc47b-092c-476e-a7e6-ded8fcfc94f2"
      },
      "source": [
        "采用 LangChain 提供的 HuggingFaceEmbeddings 接口，并加载适合中文的预训练模型（例如“GanymedeNil/text2vec-large-chinese”或“BAAI/bge-base-chinese”）。\n"
      ]
    },
    {
      "cell_type": "code",
      "metadata": {
        "id": "33288d25-131a-4b89-997e-7e8634eef3a2",
        "colab": {
          "base_uri": "https://localhost:8080/",
          "height": 421,
          "referenced_widgets": [
            "6948090955464b129b3b628f7c65b25a",
            "b3f9c5c2f6784abb9b0486de6075fbb4",
            "5de15f3e52464965aba98642b6e722d6",
            "3fcb0290fdf64bf699e3d225c4056228",
            "af63761345d948408356377d11c9d066",
            "c76ff783dff942a6a2819a169b1ee23a",
            "d3548039f904471680ab3471dc4ec8b9",
            "5b9e01921dd94f99be624abf85ea9eda",
            "8eb00b24db9542459e6c08ca7b6ee2e3",
            "8f14454defe2477496405e240f7f2658",
            "f12793b5575b4bc5a1621ec41b6ae08e",
            "cd56e8a47f7e4a64b9470a50ba19b0f9",
            "7e578776f7e341f4be90771631cec824",
            "2f377af92f774e908cf366cf6076fa44",
            "4076dccd60104b06af12b44c9dfcc793",
            "981bb0b9fa81488f979e0dca35e4fa65",
            "8af4c96a6cd049c59c63e8b3ec3c08ca",
            "587c38dd2f314e269b1eb803dc33739f",
            "569e4633526e4917865cc113ec822ba9",
            "ce80d41ef4f74c47b2e5b9c79c887af0",
            "2bef5a1aa66546b38e0388d57edf5aae",
            "439f9bb67fe7489c92d55e847fe78d29",
            "b1a8395efa0a46ad81f792be29891558",
            "dc14f0d7128d4abeb69deca736270451",
            "4bbb5a5db7bb47a4806339fbe1107778",
            "3316169461f348378d5ed2d46af669c1",
            "a906e5f73c164b2f853f1d9a7588d701",
            "a9c6dd37dc624b8da749c39251b1842e",
            "724cac1d5bf24a269f613b278a9e2d58",
            "7e3621796d6d4f5b9a0791669a09ac36",
            "21fd1f905e3746a5b12148a16addfe32",
            "ee169e4a1b2c4aaf9dd1da3402c7e8c7",
            "d2f46e99cdba4cdeb60767706c47b889",
            "089d723852a4497aa6cfab4fdf62c5c2",
            "649d3982bcee4d22ac9d37bcc04a5d07",
            "3dfbcc5af3b5495b85faa64e01fb5efc",
            "1865ea5bce3145bebea5434bcf9b4084",
            "4f461d983e0c402581046786e0002c8e",
            "12b0d581d8df43b884ebb22513fc61bc",
            "eb9062fe175949cabb45e84b2436094e",
            "57110dbc33c648e9ac64433318377d95",
            "08c5e2ed9254494daad087381a4a8a78",
            "a0332a564b2745e794cde5d3f91fc4ba",
            "9e9f99a6ba3346d792ecbab071bbf5d8",
            "6a66c5eb971e4e86bfefae7c733d7d1b",
            "8df861a61a8b49148bc66855b61bffed",
            "ce5c07a1c61b417a8ced7b6bab999972",
            "083b52cbb1f245b2b087700563a44655",
            "67d856508d2a4c2f99ae62e8f4f7a93e",
            "4976059f5ee0489380eacc014630df3c",
            "00097996f34a49018317b0a7ff087163",
            "d410977abce649e4b08d788ebe77c2df",
            "001fb4ced5ee47bdb571c6582942860a",
            "72e6242cb7044b7686e9266978b3d80f",
            "0123a41c22a34ff1b6351a44dcfadd75",
            "4ba56e563f3a48c18014beab90588183",
            "940a3842a9ef4a31847a9b39a0091246",
            "84acfc670890439290272e0b67f31176",
            "2cb2bf25e07b4300ab2fa0f059668c97",
            "4e7498d1c7d4474cb9ed36b26bdbfdab",
            "4f03eb4d5a9440fa913f3d4d09231cb4",
            "0baad99b0d8b4810b5ac00d56c850b50",
            "f7646a70274d405cbc4f92a47adb27a7",
            "634d0d108d8541e784485a75527dadef",
            "3c52734c241540cfab2be4fb1a4acaee",
            "3cd7407b16234c66968cf2695270b448"
          ]
        },
        "outputId": "0d5a16d2-ccfc-43cb-ab9d-b028807483ec"
      },
      "outputs": [
        {
          "output_type": "stream",
          "name": "stderr",
          "text": [
            "<ipython-input-10-fd577de95716>:9: LangChainDeprecationWarning: The class `HuggingFaceEmbeddings` was deprecated in LangChain 0.2.2 and will be removed in 1.0. An updated version of the class exists in the :class:`~langchain-huggingface package and should be used instead. To use it run `pip install -U :class:`~langchain-huggingface` and import as `from :class:`~langchain_huggingface import HuggingFaceEmbeddings``.\n",
            "  embeddings = HuggingFaceEmbeddings(model_name=model_name)\n",
            "/usr/local/lib/python3.11/dist-packages/huggingface_hub/utils/_auth.py:94: UserWarning: \n",
            "The secret `HF_TOKEN` does not exist in your Colab secrets.\n",
            "To authenticate with the Hugging Face Hub, create a token in your settings tab (https://huggingface.co/settings/tokens), set it as secret in your Google Colab and restart your session.\n",
            "You will be able to reuse this secret in all of your notebooks.\n",
            "Please note that authentication is recommended but still optional to access public models or datasets.\n",
            "  warnings.warn(\n",
            "WARNING:sentence_transformers.SentenceTransformer:No sentence-transformers model found with name GanymedeNil/text2vec-large-chinese. Creating a new one with mean pooling.\n"
          ]
        },
        {
          "output_type": "display_data",
          "data": {
            "text/plain": [
              "config.json:   0%|          | 0.00/821 [00:00<?, ?B/s]"
            ],
            "application/vnd.jupyter.widget-view+json": {
              "version_major": 2,
              "version_minor": 0,
              "model_id": "6948090955464b129b3b628f7c65b25a"
            }
          },
          "metadata": {}
        },
        {
          "output_type": "display_data",
          "data": {
            "text/plain": [
              "model.safetensors:   0%|          | 0.00/1.30G [00:00<?, ?B/s]"
            ],
            "application/vnd.jupyter.widget-view+json": {
              "version_major": 2,
              "version_minor": 0,
              "model_id": "cd56e8a47f7e4a64b9470a50ba19b0f9"
            }
          },
          "metadata": {}
        },
        {
          "output_type": "display_data",
          "data": {
            "text/plain": [
              "tokenizer_config.json:   0%|          | 0.00/514 [00:00<?, ?B/s]"
            ],
            "application/vnd.jupyter.widget-view+json": {
              "version_major": 2,
              "version_minor": 0,
              "model_id": "b1a8395efa0a46ad81f792be29891558"
            }
          },
          "metadata": {}
        },
        {
          "output_type": "display_data",
          "data": {
            "text/plain": [
              "vocab.txt:   0%|          | 0.00/110k [00:00<?, ?B/s]"
            ],
            "application/vnd.jupyter.widget-view+json": {
              "version_major": 2,
              "version_minor": 0,
              "model_id": "089d723852a4497aa6cfab4fdf62c5c2"
            }
          },
          "metadata": {}
        },
        {
          "output_type": "display_data",
          "data": {
            "text/plain": [
              "tokenizer.json:   0%|          | 0.00/439k [00:00<?, ?B/s]"
            ],
            "application/vnd.jupyter.widget-view+json": {
              "version_major": 2,
              "version_minor": 0,
              "model_id": "6a66c5eb971e4e86bfefae7c733d7d1b"
            }
          },
          "metadata": {}
        },
        {
          "output_type": "display_data",
          "data": {
            "text/plain": [
              "special_tokens_map.json:   0%|          | 0.00/125 [00:00<?, ?B/s]"
            ],
            "application/vnd.jupyter.widget-view+json": {
              "version_major": 2,
              "version_minor": 0,
              "model_id": "4ba56e563f3a48c18014beab90588183"
            }
          },
          "metadata": {}
        },
        {
          "output_type": "execute_result",
          "data": {
            "text/plain": [
              "'\\n# 使用上一步切分后的文本块列表进行向量化\\nembedding_vectors = embeddings.embed_documents(chunks)\\n\\nprint(\"每个文本块的向量表示：\")\\nfor i, vec in enumerate(embedding_vectors, start=1):\\n    print(f\"【块 {i}】 向量维度：{len(vec)}\")\\n'"
            ],
            "application/vnd.google.colaboratory.intrinsic+json": {
              "type": "string"
            }
          },
          "metadata": {},
          "execution_count": 10
        }
      ],
      "source": [
        "# 选择中文预训练模型（可根据实际情况调整模型名称）\n",
        "# 指定中文预训练模型\n",
        "model_name = \"GanymedeNil/text2vec-large-chinese\"\n",
        "\n",
        "# 指定缓存目录到 Google Drive\n",
        "cache_dir = \"/content/drive/MyDrive/AInew/HuggingFace_cache\"\n",
        "\n",
        "# 创建嵌入对象，模型会首先检查该目录，如果模型已下载则直接加载\n",
        "embeddings = HuggingFaceEmbeddings(model_name=model_name)\n",
        "\n",
        "# 修改实例的 cache_folder 属性，使其指向 Google Drive 中的目录\n",
        "embeddings.cache_folder = cache_dir\n",
        "\n",
        "'''\n",
        "# 使用上一步切分后的文本块列表进行向量化\n",
        "embedding_vectors = embeddings.embed_documents(chunks)\n",
        "\n",
        "print(\"每个文本块的向量表示：\")\n",
        "for i, vec in enumerate(embedding_vectors, start=1):\n",
        "    print(f\"【块 {i}】 向量维度：{len(vec)}\")\n",
        "'''"
      ],
      "execution_count": 10
    },
    {
      "cell_type": "markdown",
      "metadata": {
        "id": "7c3051ed-3e54-4fc9-bdd1-2677a4089793"
      },
      "source": [
        "这里使用 LangChain 内置的 FAISS 作为向量数据库，将文本块及其向量存储起来，并演示如何根据查询进行相似性搜索。\n"
      ]
    },
    {
      "cell_type": "code",
      "source": [
        "\n",
        "\n",
        "# 重新创建 docs，确保是 Document 对象\n",
        "docs = [\n",
        "    Document(page_content=chunk, metadata={\"source\": file_name})\n",
        "    for chunk in chunks\n",
        "]\n",
        "\n",
        "\n",
        "# 通过 FAISS 构建向量数据库，内部会调用上面的 embeddings 进行向量化\n",
        "vector_store = FAISS.from_documents(docs, embeddings)\n",
        "\n",
        "# 指定保存向量数据库的目录（这里设在 Google Drive 中）\n",
        "persist_directory = \"/content/drive/MyDrive/FAISS_vector_store\"\n",
        "\n",
        "# 保存向量数据库到指定目录\n",
        "vector_store.save_local(persist_directory)\n",
        "\n"
      ],
      "metadata": {
        "id": "3SHgtN_lBNvR"
      },
      "execution_count": 12,
      "outputs": []
    },
    {
      "cell_type": "code",
      "source": [
        "# 加载向量数据库，使用相同的 embeddings 对象\n",
        "#loaded_vector_store = FAISS.load_local(persist_directory, embeddings,allow_dangerous_deserialization=True) #允许反序列化\n",
        "\n",
        "# 示例查询（例如：查询企业核心竞争力相关内容）\n",
        "query = \"案件类型属于信息披露有问题有哪些？\"\n",
        "results = vector_store.similarity_search(query, k=3)\n",
        "\n",
        "print(\"相似性搜索结果：\")\n",
        "for i, doc in enumerate(results, start=1):\n",
        "    print(f\"【结果 {i}】 {doc.page_content}\")\n",
        "    print(doc.metadata)"
      ],
      "metadata": {
        "colab": {
          "base_uri": "https://localhost:8080/"
        },
        "id": "uhrkDIlzRA3e",
        "outputId": "a6861fdf-4255-4d6f-8701-0b373b43bc16"
      },
      "execution_count": 20,
      "outputs": [
        {
          "output_type": "stream",
          "name": "stdout",
          "text": [
            "相似性搜索结果：\n",
            "【结果 1】 一周监管动态汇总（2017年3月第7期0306-0312）.xls/其他/时间：2017-03-07 00:00:00/标题：违规私募有六个“标签” 投资者需额外关注谨慎投资 \n",
            "/主要内容：广东证监局相关人士指出，通过调查发现，私募机构常见的违法违规行为包括：\n",
            "1.向不特定对象公开宣传和推介私募基金产品。通过公司网站、微信等方式向不特定对象宣传推介私募基金产品；公司网站未设定特定对象的确定程序，非特定对象均可点击阅读产品；部分私募机构与第三方机构平台合作，推介产品未备案或不存在，信息虚假。\n",
            "2.私募机构未按规定办理基金产品备案手续。如设立以投资为目的有限合伙企业，由私募机构担任普通合伙人，向投资者非公开募集资金(有限合伙企业份额)。实际上属于有限合伙型私募基金产品，但私募机构经常不将这种产品办理备案。\n",
            "3.私募机构募集时未对投资者进行有效风险测评，并向不合格投资者募集资金。也存在部分私募机构通过一些互联网平台开展私募投资基金或私募产品收益权的拆分转让业务。\n",
            "4.私募机构投资运作行为违规，挪用或侵占基金财产，未将募集资金进行专户存管，违反合同约定列支费用、进行利益输送等。\n",
            "5.部分私募机构管理的私募基金存在保本保收益情形。如约定的分期支付利息和收益，以及期末大股东约定回购的条款，涉嫌变相或暗示承诺保底保收益。\n",
            "6.私募机构二级市场证券投资行为违法违规。/链接：http://www.sac.net.cn/hyfw/hydt/201703/t20170307_130640.html\n",
            "{'source': '一周监管动态汇总（2017年3月第7期0306-0312）.xls'}\n",
            "【结果 2】 一周监管动态汇总（2017年3月第7期0306-0312）.xls/案例汇总/业务种类：投行业务/发布时间：2017-03-06 00:00:00/案例类型：持续督导及提供财务顾问服务未尽职/案件概况：湘财证券为上海盟云移软网络科技股份有限公司重大资产重组提供独立财务顾问服务，同时担任其主办券商，未能督促盟云公司按照《非上市公众公司重大资产重组管理办法》的规定履行相关程序，在明知本次重大资产重组存在重大程序瑕疵的情况下，仍为重大资产重组出具独立财务顾问报告，认为“重组资产权属清晰，资产过户或转移不存在法律障碍”。北京市大成（深圳）律师事务所提供法律服务过程中也存在上述问题。/处罚措施：出具警示函、提交书面承诺/案例警示：健全内控制度，在持续督导及提供财务顾问服务过程中，遵守相关法律和市场规则/链接：http://www.neeq.com.cn/uploads/1/file/public/201703/20170306092556_aiperts5rd.pdf\n",
            "{'source': '一周监管动态汇总（2017年3月第7期0306-0312）.xls'}\n",
            "【结果 3】 一周监管动态汇总（2017年3月第7期0306-0312）.xls/其他/时间：2017-03-10 00:00:00/标题：吴晓灵：证券法修订更多体现四方面内容/主要内容：　其一，完善基本交易制度，包括完善证券的发行、交易、登记、结算、退市等制度；其二，为多层次资本市场发展留下制度空间，为企业更方便地进行股本融资提供渠道；其三，更好地进行投资者保护，对于违法违规行为打击力度增强，投资者利益损失补偿、法律救济渠道、行政救济渠道等内容增加；其四，进一步明确市场规则。资本市场最核心的就是信息真实、全面地披露，对于信息披露违法违规、市场操纵等将加大打击力度，加强监管当局的稽查手段，严肃市场纪律。/链接：http://www.sac.net.cn/hyfw/hydt/201703/t20170310_130679.html\n",
            "{'source': '一周监管动态汇总（2017年3月第7期0306-0312）.xls'}\n"
          ]
        }
      ]
    },
    {
      "cell_type": "markdown",
      "metadata": {
        "id": "0af3ba78-cbdb-4482-a786-b316bf95dc50"
      },
      "source": [
        "## LLM 模型构建\n"
      ]
    },
    {
      "cell_type": "markdown",
      "metadata": {
        "id": "9d869363-fef8-44b2-8e54-ac0bef206f73"
      },
      "source": [
        "First, define a model ID and choose which model that you want to use. There are many other model options. Refer to [Foundation Models](https://ibm.github.io/watsonx-ai-python-sdk/foundation_models.html) for other model options. This tutorial uses the `FLAN_UL2` model as an example.\n"
      ]
    },
    {
      "cell_type": "code",
      "metadata": {
        "id": "28b87cb0-0427-4769-820d-8b25fd5146b4"
      },
      "outputs": [],
      "source": [
        "# 1. 加载本地 ChatGLM-6B 模型\n",
        "model_name = \"THUDM/chatglm-6b\"\n",
        "tokenizer = AutoTokenizer.from_pretrained(model_name, trust_remote_code=True)\n",
        "model = AutoModelForCausalLM.from_pretrained(model_name, trust_remote_code=True).half().cuda()\n",
        "\n",
        "# 2. 构建 HuggingFace pipeline\n",
        "hf_pipeline = pipeline(\n",
        "    \"text-generation\",\n",
        "    model=model,\n",
        "    tokenizer=tokenizer,\n",
        "    max_length=512,  # 增加长度以适应更长的对话\n",
        "    device=0\n",
        ")\n",
        "\n",
        "# 3. 使用 LangChain 的 HuggingFacePipeline 作为 LLM\n",
        "llm_local = HuggingFacePipeline(pipeline=hf_pipeline)\n",
        "\n",
        "# 4. 创建 PromptTemplate\n",
        "prompt_template = \"\"\"Use the information from the document to answer the question at the end.\n",
        "If you don't know the answer, just say that you don't know, definitely do not try to make up an answer.\n",
        "\n",
        "{context}\n",
        "\n",
        "Question: {question}\n",
        "\"\"\"\n",
        "PROMPT = PromptTemplate(\n",
        "    template=prompt_template,\n",
        "    input_variables=[\"context\", \"question\"]\n",
        ")\n",
        "\n",
        "# 5. 加载向量数据库（假设之前已存储在 Google Drive）\n",
        "vector_store_path = \"/content/drive/MyDrive/faiss_index\"\n",
        "vector_store = FAISS.load_local(vector_store_path, llm_local)  # 载入 FAISS 数据库\n",
        "\n",
        "# 6. 创建 Memory 机制（对话历史）\n",
        "memory = ConversationBufferMemory(\n",
        "    memory_key=\"chat_history\",\n",
        "    return_messages=True\n",
        ")\n",
        "\n",
        "# 7. 结合 LLM、检索、Memory 构建 ConversationalRetrievalChain\n",
        "qa_chain = ConversationalRetrievalChain.from_llm(\n",
        "    llm=llm_local,\n",
        "    retriever=vector_store.as_retriever(),  # 让向量数据库成为检索器\n",
        "    memory=memory,\n",
        "    combine_docs_chain_kwargs={\"prompt\": PROMPT}  # 绑定 Prompt\n",
        ")\n",
        "\n",
        "# 8. 运行 Q&A 查询\n",
        "query = \"这家企业的核心竞争力是什么？\"\n",
        "results = vector_store.similarity_search(query, k=3)  # 从向量数据库中检索相关文档\n",
        "context = \"\\n\\n\".join([doc.page_content for doc in results])  # 提取文本内容\n",
        "\n",
        "# 9. 通过 Chain 运行\n",
        "response = qa_chain({\"question\": query, \"context\": context})\n",
        "\n",
        "print(\"本地 ChatGLM-6B 回答：\")\n",
        "print(response[\"answer\"])\n"
      ],
      "execution_count": null
    },
    {
      "cell_type": "markdown",
      "metadata": {
        "id": "7dcf02bf-a93d-45a4-a1f3-a65fbccdc55c"
      },
      "source": [
        "Define parameters for the model.\n",
        "\n",
        "The decoding method is set to `greedy` to get a deterministic output.\n",
        "\n",
        "For other commonly used parameters, you can refer to [Foundation model parameters: decoding and stopping criteria](https://www.ibm.com/docs/en/watsonx-as-a-service?utm_source=skills_network&utm_content=in_lab_content_link&utm_id=Lab-RAG_v1_1711546843&topic=lab-model-parameters-prompting).\n"
      ]
    },
    {
      "cell_type": "code",
      "metadata": {
        "id": "004bd189-a4f7-40e3-bf19-9728e186af12"
      },
      "outputs": [],
      "source": [
        "parameters = {\n",
        "    GenParams.DECODING_METHOD: DecodingMethods.GREEDY,\n",
        "    GenParams.MIN_NEW_TOKENS: 130, # this controls the minimum number of tokens in the generated output\n",
        "    GenParams.MAX_NEW_TOKENS: 256,  # this controls the maximum number of tokens in the generated output\n",
        "    GenParams.TEMPERATURE: 0.5 # this randomness or creativity of the model's responses\n",
        "}"
      ],
      "execution_count": null
    },
    {
      "cell_type": "markdown",
      "metadata": {
        "id": "d856beec-d40f-44eb-a490-2d5a9a073b3b"
      },
      "source": [
        "Define `credentials` and `project_id`,  which are necessary parameters to successfully run LLMs from watsonx.ai.\n",
        "\n",
        "(Keep `credentials` and `project_id` as they are now so that you do not need to create your own keys to run models. This supports you in running the model inside this lab environment. However, if you want to run the model locally, refer to this [tutorial](https://medium.com/the-power-of-ai/ibm-watsonx-ai-the-interface-and-api-e8e1c7227358) for creating your own keys.\n"
      ]
    },
    {
      "cell_type": "code",
      "metadata": {
        "id": "c77d4f17-6191-4280-b5b5-43522a390429"
      },
      "outputs": [],
      "source": [
        "credentials = {\n",
        "    \"url\": \"https://us-south.ml.cloud.ibm.com\"\n",
        "}\n",
        "\n",
        "project_id = \"skills-network\""
      ],
      "execution_count": null
    },
    {
      "cell_type": "markdown",
      "metadata": {
        "id": "85f36f68-1ca1-4980-a325-71395b0022d7"
      },
      "source": [
        "Wrap the parameters to the model.\n"
      ]
    },
    {
      "cell_type": "code",
      "metadata": {
        "id": "82479735-2e80-4487-9a04-3fd7f809a59a"
      },
      "outputs": [],
      "source": [
        "model = Model(\n",
        "    model_id=model_id,\n",
        "    params=parameters,\n",
        "    credentials=credentials,\n",
        "    project_id=project_id\n",
        ")"
      ],
      "execution_count": null
    },
    {
      "cell_type": "markdown",
      "metadata": {
        "id": "83d63880-21d2-431c-9ce4-15e583586c05"
      },
      "source": [
        "Build a model called `flan_ul2_llm` from watsonx.ai.\n"
      ]
    },
    {
      "cell_type": "code",
      "metadata": {
        "id": "edba2993-6d89-43ff-b21a-01728e453433"
      },
      "outputs": [],
      "source": [
        "flan_ul2_llm = WatsonxLLM(model=model)"
      ],
      "execution_count": null
    },
    {
      "cell_type": "markdown",
      "metadata": {
        "id": "463a7902-0703-4858-9e46-5e074f98f0ab"
      },
      "source": [
        "This completes the `LLM` part of the `Retrieval` task. <br>\n",
        "<img src=\"https://cf-courses-data.s3.us.cloud-object-storage.appdomain.cloud/UZXQ44Tgv4EQ2-mTcu5e-A.png\" width=\"50%\" alt=\"split\"/>\n"
      ]
    },
    {
      "cell_type": "markdown",
      "metadata": {
        "id": "4b80e925-4a28-4e00-a406-5389be11dfdd"
      },
      "source": [
        "## Integrating LangChain\n"
      ]
    },
    {
      "cell_type": "markdown",
      "metadata": {
        "id": "ca303856-ee70-42c5-a8bc-0ab16d460e83"
      },
      "source": [
        "LangChain has a number of components that are designed to help retrieve information from the document and build question-answering applications, which helps you complete the `retrieve` part of the `Retrieval` task. <br>\n",
        "<img src=\"https://cf-courses-data.s3.us.cloud-object-storage.appdomain.cloud/M4WpkkMMbfK0Wkz0W60Jiw.png\" width=\"50%\" alt=\"split\"/>\n"
      ]
    },
    {
      "cell_type": "markdown",
      "metadata": {
        "id": "28954aae-7191-4116-bd8b-2a5b2e2a5f22"
      },
      "source": [
        "In the following steps, you create a simple Q&A application over the document source using LangChain's `RetrievalQA`.\n",
        "\n",
        "Then, you ask the query \"what is mobile policy?\"\n"
      ]
    },
    {
      "cell_type": "code",
      "metadata": {
        "id": "1f7a7093-878f-49fd-9e0f-41f3bf93857d"
      },
      "outputs": [],
      "source": [
        "qa = RetrievalQA.from_chain_type(llm=flan_ul2_llm,\n",
        "                                 chain_type=\"stuff\",\n",
        "                                 retriever=docsearch.as_retriever(),\n",
        "                                 return_source_documents=False)\n",
        "query = \"what is mobile policy?\"\n",
        "qa.invoke(query)"
      ],
      "execution_count": null
    },
    {
      "cell_type": "markdown",
      "metadata": {
        "id": "8a0324a5-090c-4c3a-9753-0458bf97e6bf"
      },
      "source": [
        "From the response, it seems fine. The model's response is the relevant information about the mobile policy from the document.\n"
      ]
    },
    {
      "cell_type": "markdown",
      "metadata": {
        "id": "12cf0383-1a8e-4292-bfea-eff58c645d0a"
      },
      "source": [
        "Now, try to ask a more high-level question.\n"
      ]
    },
    {
      "cell_type": "code",
      "metadata": {
        "id": "52741fbe-1e4a-4f4f-bdf6-afa972e66a6d"
      },
      "outputs": [],
      "source": [
        "qa = RetrievalQA.from_chain_type(llm=flan_ul2_llm,\n",
        "                                 chain_type=\"stuff\",\n",
        "                                 retriever=docsearch.as_retriever(),\n",
        "                                 return_source_documents=False)\n",
        "query = \"Can you summarize the document for me?\"\n",
        "qa.invoke(query)"
      ],
      "execution_count": null
    },
    {
      "cell_type": "markdown",
      "metadata": {
        "id": "5055b3a7-e8d9-48f2-b2ec-d15eb98565e4"
      },
      "source": [
        "At this time, the model seems to not have the ability to summarize the document. This is because of the limitation of the `FLAN_UL2` model.\n"
      ]
    },
    {
      "cell_type": "markdown",
      "metadata": {
        "id": "24253ef3-c04c-42ae-a667-cd93e131a354"
      },
      "source": [
        "So, try to use another model, `LLAMA_3_70B_INSTRUCT`. You should do the model construction again.\n"
      ]
    },
    {
      "cell_type": "code",
      "metadata": {
        "id": "e8e2f6b6-f31e-4741-8b82-939eacd8c5c7"
      },
      "outputs": [],
      "source": [
        "model_id = 'meta-llama/llama-3-70b-instruct'\n",
        "\n",
        "parameters = {\n",
        "    GenParams.DECODING_METHOD: DecodingMethods.GREEDY,\n",
        "    GenParams.MAX_NEW_TOKENS: 256,  # this controls the maximum number of tokens in the generated output\n",
        "    GenParams.TEMPERATURE: 0.5 # this randomness or creativity of the model's responses\n",
        "}\n",
        "\n",
        "credentials = {\n",
        "    \"url\": \"https://us-south.ml.cloud.ibm.com\"\n",
        "}\n",
        "\n",
        "project_id = \"skills-network\"\n",
        "\n",
        "model = Model(\n",
        "    model_id=model_id,\n",
        "    params=parameters,\n",
        "    credentials=credentials,\n",
        "    project_id=project_id\n",
        ")\n",
        "\n",
        "llama_3_llm = WatsonxLLM(model=model)"
      ],
      "execution_count": null
    },
    {
      "cell_type": "markdown",
      "metadata": {
        "id": "ef63c05a-fcc2-4826-ae67-6c1b6395a0a5"
      },
      "source": [
        "Try the same query again on this model.\n"
      ]
    },
    {
      "cell_type": "code",
      "metadata": {
        "id": "d7f02b84-0d4a-4325-aaea-c5589fb4798f"
      },
      "outputs": [],
      "source": [
        "qa = RetrievalQA.from_chain_type(llm=llama_3_llm,\n",
        "                                 chain_type=\"stuff\",\n",
        "                                 retriever=docsearch.as_retriever(),\n",
        "                                 return_source_documents=False)\n",
        "query = \"Can you summarize the document for me?\"\n",
        "qa.invoke(query)"
      ],
      "execution_count": null
    },
    {
      "cell_type": "markdown",
      "metadata": {
        "id": "ee324fb4-1acc-4b72-bf81-2395f7ce8040"
      },
      "source": [
        "Now, you've created a simple Q&A application for your own document. Congratulations!\n"
      ]
    },
    {
      "cell_type": "markdown",
      "metadata": {
        "id": "822afc95-ef70-46a7-b209-abd25deaccdc"
      },
      "source": [
        "## Dive deeper\n"
      ]
    },
    {
      "cell_type": "markdown",
      "metadata": {
        "id": "d06e8efe-93ad-4e32-8567-6ae287bc377f"
      },
      "source": [
        "This section dives deeper into how you can improve this application. You might want to ask \"How to add the prompt in retrieval using LangChain?\" <br>\n",
        "\n",
        "<img src=\"https://cf-courses-data.s3.us.cloud-object-storage.appdomain.cloud/bvw3pPRCYRUsv-Z2m33hmQ.png\" width=\"50%\" alt=\"split\"/>\n"
      ]
    },
    {
      "cell_type": "markdown",
      "metadata": {
        "id": "2eb0559d-d13f-4692-9883-8b08756ec608"
      },
      "source": [
        "You use prompts to guide the responses from an LLM the way that you want. For instance, if the LLM is uncertain about an answer, you instruct it to simply state, \"I do not know,\" instead of attempting to generate a speculative response.\n",
        "\n",
        "Let's see an example.\n"
      ]
    },
    {
      "cell_type": "code",
      "metadata": {
        "id": "8b4d3a21-70b0-45db-a096-4b6a3e21469e"
      },
      "outputs": [],
      "source": [
        "qa = RetrievalQA.from_chain_type(llm=flan_ul2_llm,\n",
        "                                 chain_type=\"stuff\",\n",
        "                                 retriever=docsearch.as_retriever(),\n",
        "                                 return_source_documents=False)\n",
        "query = \"Can I eat in company vehicles?\"\n",
        "qa.invoke(query)"
      ],
      "execution_count": null
    },
    {
      "cell_type": "markdown",
      "metadata": {
        "id": "529696c7-2772-4f21-94f9-d085f61211b7"
      },
      "source": [
        "As you can see, the query is asking something that does not exist in the document. The LLM responds with information that actually is not true. You don't want this to happen, so you must add a prompt to the LLM.\n"
      ]
    },
    {
      "cell_type": "markdown",
      "metadata": {
        "id": "97adaf0c-e28b-4b72-af76-4bfd98580e19"
      },
      "source": [
        "### Using prompt template\n"
      ]
    },
    {
      "cell_type": "markdown",
      "metadata": {
        "id": "6d3cdaa6-856b-4374-92a8-33832fc9a0b8"
      },
      "source": [
        "In the following code, you create a prompt template using `PromptTemplate`.\n",
        "\n",
        "`context` and `question` are keywords in the RetrievalQA, so LangChain can automatically recognize them as document content and query.\n"
      ]
    },
    {
      "cell_type": "code",
      "metadata": {
        "id": "43487c1c-6d65-4175-9379-85f1a926e92f"
      },
      "outputs": [],
      "source": [
        "prompt_template = \"\"\"Use the information from the document to answer the question at the end. If you don't know the answer, just say that you don't know, definately do not try to make up an answer.\n",
        "\n",
        "{context}\n",
        "\n",
        "Question: {question}\n",
        "\"\"\"\n",
        "\n",
        "PROMPT = PromptTemplate(\n",
        "    template=prompt_template, input_variables=[\"context\", \"question\"]\n",
        ")\n",
        "\n",
        "chain_type_kwargs = {\"prompt\": PROMPT}"
      ],
      "execution_count": null
    },
    {
      "cell_type": "markdown",
      "metadata": {
        "id": "b202f816-5240-4326-bcb5-d9031f9a5e7d"
      },
      "source": [
        "You can ask the same question that does not have an answer in the document again.\n"
      ]
    },
    {
      "cell_type": "code",
      "metadata": {
        "id": "7b19f68c-ba35-454a-906e-3c580fa3ad97"
      },
      "outputs": [],
      "source": [
        "qa = RetrievalQA.from_chain_type(llm=llama_3_llm,\n",
        "                                 chain_type=\"stuff\",\n",
        "                                 retriever=docsearch.as_retriever(),\n",
        "                                 chain_type_kwargs=chain_type_kwargs,\n",
        "                                 return_source_documents=False)\n",
        "\n",
        "query = \"Can I eat in company vehicles?\"\n",
        "qa.invoke(query)"
      ],
      "execution_count": null
    },
    {
      "cell_type": "markdown",
      "metadata": {
        "id": "6b8f854c-3d06-409c-9b08-5f2971b43c6b"
      },
      "source": [
        "From the answer, you can see that the model responds with \"don't know\".\n"
      ]
    },
    {
      "cell_type": "markdown",
      "metadata": {
        "id": "5559324f-72c1-47f8-a782-c49a88af174b"
      },
      "source": [
        "### Make the conversation have memory\n"
      ]
    },
    {
      "cell_type": "markdown",
      "metadata": {
        "id": "cc5ea466-cad6-4db0-a0a7-6d54a0c71727"
      },
      "source": [
        "Do you want your conversations with an LLM to be more like a dialogue with a friend who remembers what you talked about last time? An LLM that retains the memory of your previous exchanges builds a more coherent and contextually rich conversation.\n"
      ]
    },
    {
      "cell_type": "markdown",
      "metadata": {
        "id": "ffd008de-a7d0-484d-8b16-40633c3e355d"
      },
      "source": [
        "Take a look at a situation in which an LLM does not have memory.\n",
        "\n",
        "You start a new query, \"What I cannot do in it?\". You do not specify what \"it\" is. In this case, \"it\" means \"company vehicles\" if you refer to the last query.\n"
      ]
    },
    {
      "cell_type": "code",
      "metadata": {
        "id": "e26fad95-8390-4d5e-bc9d-548beae8b7cb"
      },
      "outputs": [],
      "source": [
        "query = \"What I cannot do in it?\"\n",
        "qa.invoke(query)"
      ],
      "execution_count": null
    },
    {
      "cell_type": "markdown",
      "metadata": {
        "id": "2d33905a-9657-47c6-a7fa-1c92a582f75b"
      },
      "source": [
        "From the response, you see that the model does not have the memory because it does not provide the correct answer, which is something related to \"smoking is not permitted in company vehicles.\"\n"
      ]
    },
    {
      "cell_type": "markdown",
      "metadata": {
        "id": "1da5a23d-6e1f-43a0-b265-33ae3be4e58a"
      },
      "source": [
        "To make the LLM have memory, you introduce the `ConversationBufferMemory` function from LangChain.\n"
      ]
    },
    {
      "cell_type": "code",
      "metadata": {
        "id": "5d565bb5-a9b6-4843-a536-4b6af7c29dde"
      },
      "outputs": [],
      "source": [
        "memory = ConversationBufferMemory(memory_key = \"chat_history\", return_message = True)"
      ],
      "execution_count": null
    },
    {
      "cell_type": "markdown",
      "metadata": {
        "id": "421e3ef0-6e69-4ebc-9cf7-0f8404f6f452"
      },
      "source": [
        "Create a `ConversationalRetrievalChain` to retrieve information and talk with the LLM.\n"
      ]
    },
    {
      "cell_type": "code",
      "metadata": {
        "id": "45bc3a67-faf9-4d83-9f65-b452c014bf02"
      },
      "outputs": [],
      "source": [
        "qa = ConversationalRetrievalChain.from_llm(llm=llama_3_llm,\n",
        "                                           chain_type=\"stuff\",\n",
        "                                           retriever=docsearch.as_retriever(),\n",
        "                                           memory = memory,\n",
        "                                           get_chat_history=lambda h : h,\n",
        "                                           return_source_documents=False)"
      ],
      "execution_count": null
    },
    {
      "cell_type": "markdown",
      "metadata": {
        "id": "cf93ea75-936d-4af3-ad34-d6a745648d04"
      },
      "source": [
        "Create a `history` list to store the chat history.\n"
      ]
    },
    {
      "cell_type": "code",
      "metadata": {
        "id": "69eaccb3-ef45-4557-b1e5-05ed1b827347"
      },
      "outputs": [],
      "source": [
        "history = []"
      ],
      "execution_count": null
    },
    {
      "cell_type": "code",
      "metadata": {
        "id": "85f77a37-a926-417b-bf0f-715d0b8eef08"
      },
      "outputs": [],
      "source": [
        "query = \"What is mobile policy?\"\n",
        "result = qa.invoke({\"question\":query}, {\"chat_history\": history})\n",
        "print(result[\"answer\"])"
      ],
      "execution_count": null
    },
    {
      "cell_type": "markdown",
      "metadata": {
        "id": "94fc59c9-2c0a-4052-8cec-de7f6489fcd2"
      },
      "source": [
        "Append the previous query and answer to the history.\n"
      ]
    },
    {
      "cell_type": "code",
      "metadata": {
        "id": "2ce623c7-a999-4413-80b7-2b54a7f26200"
      },
      "outputs": [],
      "source": [
        "history.append((query, result[\"answer\"]))"
      ],
      "execution_count": null
    },
    {
      "cell_type": "code",
      "metadata": {
        "id": "1f26486f-ef4a-4570-8164-a2b71a0e0d8a"
      },
      "outputs": [],
      "source": [
        "query = \"List points in it?\"\n",
        "result = qa({\"question\": query}, {\"chat_history\": history})\n",
        "print(result[\"answer\"])"
      ],
      "execution_count": null
    },
    {
      "cell_type": "markdown",
      "metadata": {
        "id": "17824f30-5615-4282-b76f-95985cfe086f"
      },
      "source": [
        "Append the previous query and answer to the chat history again.\n"
      ]
    },
    {
      "cell_type": "code",
      "metadata": {
        "id": "424413a4-3399-4a6b-9085-7aa8125def44"
      },
      "outputs": [],
      "source": [
        "history.append((query, result[\"answer\"]))"
      ],
      "execution_count": null
    },
    {
      "cell_type": "code",
      "metadata": {
        "id": "c163f2ca-bb80-43c4-92d1-71ef3780f623"
      },
      "outputs": [],
      "source": [
        "query = \"What is the aim of it?\"\n",
        "result = qa({\"question\": query}, {\"chat_history\": history})\n",
        "print(result[\"answer\"])"
      ],
      "execution_count": null
    },
    {
      "cell_type": "markdown",
      "metadata": {
        "id": "850303d6-d2f1-4d80-b0eb-c9d4e2ce4e1b"
      },
      "source": [
        "### Wrap up and make it an agent\n"
      ]
    },
    {
      "cell_type": "markdown",
      "metadata": {
        "id": "6dcc00e4-23c2-4a75-96d8-13f49720038b"
      },
      "source": [
        "The following code defines a function to make an agent, which can retrieve information from the document and has the conversation memory.\n"
      ]
    },
    {
      "cell_type": "code",
      "metadata": {
        "id": "2897c3d0-0463-48e1-aae0-a8ffe712007f"
      },
      "outputs": [],
      "source": [
        "def qa():\n",
        "    memory = ConversationBufferMemory(memory_key = \"chat_history\", return_message = True)\n",
        "    qa = ConversationalRetrievalChain.from_llm(llm=llama_3_llm,\n",
        "                                               chain_type=\"stuff\",\n",
        "                                               retriever=docsearch.as_retriever(),\n",
        "                                               memory = memory,\n",
        "                                               get_chat_history=lambda h : h,\n",
        "                                               return_source_documents=False)\n",
        "    history = []\n",
        "    while True:\n",
        "        query = input(\"Question: \")\n",
        "\n",
        "        if query.lower() in [\"quit\",\"exit\",\"bye\"]:\n",
        "            print(\"Answer: Goodbye!\")\n",
        "            break\n",
        "\n",
        "        result = qa({\"question\": query}, {\"chat_history\": history})\n",
        "\n",
        "        history.append((query, result[\"answer\"]))\n",
        "\n",
        "        print(\"Answer: \", result[\"answer\"])"
      ],
      "execution_count": null
    },
    {
      "cell_type": "markdown",
      "metadata": {
        "id": "b1588df9-c952-4a1c-8317-4a5005908e2a"
      },
      "source": [
        "Run the function.\n",
        "\n",
        "Feel free to answer questions for your chatbot. For example:\n",
        "\n",
        "_What is the smoking policy? Can you list all points of it? Can you summarize it?_\n",
        "\n",
        "To **stop** the agent, you can type in 'quit', 'exit', 'bye'. Otherwise you cannot run other cells.\n"
      ]
    },
    {
      "cell_type": "code",
      "metadata": {
        "id": "86749c0a-f833-4596-b5f6-a93572c41242"
      },
      "outputs": [],
      "source": [
        "qa()"
      ],
      "execution_count": null
    },
    {
      "cell_type": "markdown",
      "metadata": {
        "id": "fe01ada3-37bd-4045-a5c3-d471591cd084"
      },
      "source": [
        "Congratulations! You have finished the project. Following are three exercises to help you to extend your knowledge.\n"
      ]
    },
    {
      "cell_type": "markdown",
      "metadata": {
        "id": "8e966ace-a29f-4378-ad63-5229ae05153f"
      },
      "source": [
        "# Exercises\n"
      ]
    },
    {
      "cell_type": "markdown",
      "metadata": {
        "id": "c7591c71-71dd-4c85-b996-0144d9bee81c"
      },
      "source": [
        "### Exercise 1: Work on your own document\n"
      ]
    },
    {
      "cell_type": "markdown",
      "metadata": {
        "id": "6dacbb12-b477-45c9-94e3-4730c3655b8f"
      },
      "source": [
        "You are welcome to use your own document to practice. Another document has also been prepared that you can use for practice. Can you load this document and make the LLM read it for you? <br>\n",
        "Here is the URL to the document: https://cf-courses-data.s3.us.cloud-object-storage.appdomain.cloud/XVnuuEg94sAE4S_xAsGxBA.txt\n"
      ]
    },
    {
      "cell_type": "code",
      "metadata": {
        "id": "d58c9e5b-3dbd-49e0-8298-80790a0eb130"
      },
      "outputs": [],
      "source": [
        "# Add your code here"
      ],
      "execution_count": null
    },
    {
      "cell_type": "markdown",
      "metadata": {
        "id": "4f1c155b-fa6d-44b8-9942-cc454fa538f9"
      },
      "source": [
        "<details>\n",
        "    <summary>Click here for solution</summary>\n",
        "<br>\n",
        "    \n",
        "```python\n",
        "filename = 'stateOfUnion.txt'\n",
        "url = 'https://cf-courses-data.s3.us.cloud-object-storage.appdomain.cloud/XVnuuEg94sAE4S_xAsGxBA.txt'\n",
        "\n",
        "wget.download(url, out=filename)\n",
        "print('file downloaded')\n",
        "```\n",
        "\n",
        "</details>\n"
      ]
    },
    {
      "cell_type": "markdown",
      "metadata": {
        "id": "d629f56e-feff-4a27-a32f-378315d17ca3"
      },
      "source": [
        "### Exercise 2: Return the source from the document\n"
      ]
    },
    {
      "cell_type": "markdown",
      "metadata": {
        "id": "837c98cf-d8ae-4218-81b0-6eb017b4d904"
      },
      "source": [
        "Sometimes, you not only want the LLM to summarize for you, but you also want the model to return the exact content source from the document to you for reference. Can you adjust the code to make it happen?\n"
      ]
    },
    {
      "cell_type": "code",
      "metadata": {
        "id": "12c4f630-2330-4f35-98b3-d314f546bac3"
      },
      "outputs": [],
      "source": [
        "# Add your code"
      ],
      "execution_count": null
    },
    {
      "cell_type": "markdown",
      "metadata": {
        "id": "fb593da9-2b28-4336-a681-ef34242196f5"
      },
      "source": [
        "<details>\n",
        "    <summary>Click here for a hint</summary>\n",
        "All you must do is change the return_source_documents to True when you create the chain. And when you print, print the ['source_documents'][0]\n",
        "<br><br>\n",
        "\n",
        "    \n",
        "```python\n",
        "qa = RetrievalQA.from_chain_type(llm=llama_3_llm, chain_type=\"stuff\", retriever=docsearch.as_retriever(), return_source_documents=True)\n",
        "query = \"Can I smoke in company vehicles?\"\n",
        "results = qa.invoke(query)\n",
        "print(results['source_documents'][0]) ## this will return you the source content\n",
        "```\n",
        "\n",
        "</details>\n"
      ]
    },
    {
      "cell_type": "markdown",
      "metadata": {
        "id": "b3001f25-a3e8-4026-80c2-63782e9193eb"
      },
      "source": [
        "### Exercise 3: Use another LLM model\n"
      ]
    },
    {
      "cell_type": "markdown",
      "metadata": {
        "id": "cb419dda-9689-49a5-b3eb-a8f0bc94839a"
      },
      "source": [
        "IBM watsonx.ai also has many other LLM models that you can use; for example, `GRANITE_13B_CHAT_V2`. Can you change the model to see the difference of the response?\n"
      ]
    },
    {
      "cell_type": "code",
      "metadata": {
        "id": "66d7cd63-acdd-4c8e-92fa-efdad05e6955"
      },
      "outputs": [],
      "source": [
        "# Add your code here"
      ],
      "execution_count": null
    },
    {
      "cell_type": "markdown",
      "metadata": {
        "id": "e8639490-7a60-403a-b15e-a24d19c33f66"
      },
      "source": [
        "<details>\n",
        "    <summary>Click here for a hint</summary>\n",
        "\n",
        "To use the Granite model in your notebook, go to the cell where the `model_id` is specified to `LLAMA_3_70B_INSTRUCT` and replace the current `model_id` with the following code. Expect different results and performance when using other models.\n",
        "\n",
        "```python\n",
        "model_id = ModelTypes.GRANITE_13B_CHAT_V2\n",
        "```\n",
        "</br>\n",
        "\n",
        "After updating, run the remaining cells in the notebook to ensure the Granite model is used for subsequent operations.\n",
        "\n",
        "</details>\n"
      ]
    },
    {
      "cell_type": "markdown",
      "metadata": {
        "id": "fe2ffad7-0b8b-49e1-98d7-a9028181fb63"
      },
      "source": [
        "## Authors\n"
      ]
    },
    {
      "cell_type": "markdown",
      "metadata": {
        "id": "4ea4d9b3-ff14-4808-b0c0-a8b4e14019b4"
      },
      "source": [
        "[Kang Wang](https://author.skills.network/instructors/kang_wang) <br>\n",
        "Kang Wang is a Data Scientist Intern in IBM. He is also a PhD Candidate in the University of Waterloo.\n",
        "\n",
        "[Faranak Heidari](https://www.linkedin.com/in/faranakhdr/) <br>\n",
        "Faranak Heidari is a Data Scientist Intern in IBM with a strong background in applied machine learning. Experienced in managing complex data to establish business insights and foster data-driven decision-making in complex settings such as healthcare. She is also a PhD candidate at the University of Toronto.\n"
      ]
    },
    {
      "cell_type": "markdown",
      "metadata": {
        "id": "28bcdc8d-85a7-487e-87cd-1ff0a4979e50"
      },
      "source": [
        "### Other Contributors\n"
      ]
    },
    {
      "cell_type": "markdown",
      "metadata": {
        "id": "8d041628-603f-424c-ba70-c5ea883004f7"
      },
      "source": [
        "[Sina Nazeri](https://author.skills.network/instructors/sina_nazeri) <br>\n",
        "I am grateful to have had the opportunity to work as a Research Associate, Ph.D., and IBM Data Scientist. Through my work, I have gained experience in unraveling complex data structures to extract insights and provide valuable guidance.\n",
        "\n",
        "[Wojciech Fulmyk](https://author.skills.network/instructors/wojciech_fulmyk) <br>\n",
        "As a data scientist at the Ecosystems Skills Network at IBM and a Ph.D. candidate in Economics at the University of Calgary, I bring a wealth of experience in unraveling complex problems through the lens of data. What sets me apart is my ability to seamlessly merge technical expertise with effective communication, translating intricate data findings into actionable insights for stakeholders at all levels. From modeling to storytelling, I bring a holistic approach to data science. Leveraging machine learning algorithms, I construct predictive models tailored to both real-world challenges as well as old, well-understood problems. My knack for data-driven storytelling ensures that the insights uncovered resonate with both technical and non-technical audiences. Open to collaboration, I'm eager to take on new challenges and contribute to transformative data-driven endeavors. Whether you seek to extract insights, enhance predictive models, or explore untapped potential within your datasets, I'm here to help. Feel free to connect to me via my LinkedIn profile. Let's learn from each other!\n"
      ]
    },
    {
      "cell_type": "markdown",
      "metadata": {
        "id": "6545875b-d1fe-4ee2-a62d-4c603ac0f91b"
      },
      "source": [
        "```{## Change Log}\n",
        "```\n"
      ]
    },
    {
      "cell_type": "markdown",
      "metadata": {
        "id": "39e0882e-ecce-4383-9099-f253344fadd2"
      },
      "source": [
        "```{|Date (YYYY-MM-DD)|Version|Changed By|Change Description||-|-|-|-||2024-03-22|0.1|Kang Wang|Create the Project|}\n",
        "```\n"
      ]
    },
    {
      "cell_type": "markdown",
      "metadata": {
        "id": "e49991c6-0fce-4b4e-8ae5-621119e941ad"
      },
      "source": [
        "© Copyright IBM Corporation. All rights reserved.\n"
      ]
    }
  ],
  "metadata": {
    "kernelspec": {
      "display_name": "Python 3",
      "name": "python3"
    },
    "language_info": {
      "name": "python",
      "version": "3.12.8",
      "mimetype": "text/x-python",
      "codemirror_mode": {
        "name": "ipython",
        "version": 3
      },
      "pygments_lexer": "ipython3",
      "nbconvert_exporter": "python",
      "file_extension": ".py"
    },
    "prev_pub_hash": "6fcbd17b301e01bbc65db63c2b26e2138ba457bbb1a16a973209e821e496f5b7",
    "colab": {
      "provenance": [],
      "include_colab_link": true
    },
    "widgets": {
      "application/vnd.jupyter.widget-state+json": {
        "6948090955464b129b3b628f7c65b25a": {
          "model_module": "@jupyter-widgets/controls",
          "model_name": "HBoxModel",
          "model_module_version": "1.5.0",
          "state": {
            "_dom_classes": [],
            "_model_module": "@jupyter-widgets/controls",
            "_model_module_version": "1.5.0",
            "_model_name": "HBoxModel",
            "_view_count": null,
            "_view_module": "@jupyter-widgets/controls",
            "_view_module_version": "1.5.0",
            "_view_name": "HBoxView",
            "box_style": "",
            "children": [
              "IPY_MODEL_b3f9c5c2f6784abb9b0486de6075fbb4",
              "IPY_MODEL_5de15f3e52464965aba98642b6e722d6",
              "IPY_MODEL_3fcb0290fdf64bf699e3d225c4056228"
            ],
            "layout": "IPY_MODEL_af63761345d948408356377d11c9d066"
          }
        },
        "b3f9c5c2f6784abb9b0486de6075fbb4": {
          "model_module": "@jupyter-widgets/controls",
          "model_name": "HTMLModel",
          "model_module_version": "1.5.0",
          "state": {
            "_dom_classes": [],
            "_model_module": "@jupyter-widgets/controls",
            "_model_module_version": "1.5.0",
            "_model_name": "HTMLModel",
            "_view_count": null,
            "_view_module": "@jupyter-widgets/controls",
            "_view_module_version": "1.5.0",
            "_view_name": "HTMLView",
            "description": "",
            "description_tooltip": null,
            "layout": "IPY_MODEL_c76ff783dff942a6a2819a169b1ee23a",
            "placeholder": "​",
            "style": "IPY_MODEL_d3548039f904471680ab3471dc4ec8b9",
            "value": "config.json: 100%"
          }
        },
        "5de15f3e52464965aba98642b6e722d6": {
          "model_module": "@jupyter-widgets/controls",
          "model_name": "FloatProgressModel",
          "model_module_version": "1.5.0",
          "state": {
            "_dom_classes": [],
            "_model_module": "@jupyter-widgets/controls",
            "_model_module_version": "1.5.0",
            "_model_name": "FloatProgressModel",
            "_view_count": null,
            "_view_module": "@jupyter-widgets/controls",
            "_view_module_version": "1.5.0",
            "_view_name": "ProgressView",
            "bar_style": "success",
            "description": "",
            "description_tooltip": null,
            "layout": "IPY_MODEL_5b9e01921dd94f99be624abf85ea9eda",
            "max": 821,
            "min": 0,
            "orientation": "horizontal",
            "style": "IPY_MODEL_8eb00b24db9542459e6c08ca7b6ee2e3",
            "value": 821
          }
        },
        "3fcb0290fdf64bf699e3d225c4056228": {
          "model_module": "@jupyter-widgets/controls",
          "model_name": "HTMLModel",
          "model_module_version": "1.5.0",
          "state": {
            "_dom_classes": [],
            "_model_module": "@jupyter-widgets/controls",
            "_model_module_version": "1.5.0",
            "_model_name": "HTMLModel",
            "_view_count": null,
            "_view_module": "@jupyter-widgets/controls",
            "_view_module_version": "1.5.0",
            "_view_name": "HTMLView",
            "description": "",
            "description_tooltip": null,
            "layout": "IPY_MODEL_8f14454defe2477496405e240f7f2658",
            "placeholder": "​",
            "style": "IPY_MODEL_f12793b5575b4bc5a1621ec41b6ae08e",
            "value": " 821/821 [00:00&lt;00:00, 41.1kB/s]"
          }
        },
        "af63761345d948408356377d11c9d066": {
          "model_module": "@jupyter-widgets/base",
          "model_name": "LayoutModel",
          "model_module_version": "1.2.0",
          "state": {
            "_model_module": "@jupyter-widgets/base",
            "_model_module_version": "1.2.0",
            "_model_name": "LayoutModel",
            "_view_count": null,
            "_view_module": "@jupyter-widgets/base",
            "_view_module_version": "1.2.0",
            "_view_name": "LayoutView",
            "align_content": null,
            "align_items": null,
            "align_self": null,
            "border": null,
            "bottom": null,
            "display": null,
            "flex": null,
            "flex_flow": null,
            "grid_area": null,
            "grid_auto_columns": null,
            "grid_auto_flow": null,
            "grid_auto_rows": null,
            "grid_column": null,
            "grid_gap": null,
            "grid_row": null,
            "grid_template_areas": null,
            "grid_template_columns": null,
            "grid_template_rows": null,
            "height": null,
            "justify_content": null,
            "justify_items": null,
            "left": null,
            "margin": null,
            "max_height": null,
            "max_width": null,
            "min_height": null,
            "min_width": null,
            "object_fit": null,
            "object_position": null,
            "order": null,
            "overflow": null,
            "overflow_x": null,
            "overflow_y": null,
            "padding": null,
            "right": null,
            "top": null,
            "visibility": null,
            "width": null
          }
        },
        "c76ff783dff942a6a2819a169b1ee23a": {
          "model_module": "@jupyter-widgets/base",
          "model_name": "LayoutModel",
          "model_module_version": "1.2.0",
          "state": {
            "_model_module": "@jupyter-widgets/base",
            "_model_module_version": "1.2.0",
            "_model_name": "LayoutModel",
            "_view_count": null,
            "_view_module": "@jupyter-widgets/base",
            "_view_module_version": "1.2.0",
            "_view_name": "LayoutView",
            "align_content": null,
            "align_items": null,
            "align_self": null,
            "border": null,
            "bottom": null,
            "display": null,
            "flex": null,
            "flex_flow": null,
            "grid_area": null,
            "grid_auto_columns": null,
            "grid_auto_flow": null,
            "grid_auto_rows": null,
            "grid_column": null,
            "grid_gap": null,
            "grid_row": null,
            "grid_template_areas": null,
            "grid_template_columns": null,
            "grid_template_rows": null,
            "height": null,
            "justify_content": null,
            "justify_items": null,
            "left": null,
            "margin": null,
            "max_height": null,
            "max_width": null,
            "min_height": null,
            "min_width": null,
            "object_fit": null,
            "object_position": null,
            "order": null,
            "overflow": null,
            "overflow_x": null,
            "overflow_y": null,
            "padding": null,
            "right": null,
            "top": null,
            "visibility": null,
            "width": null
          }
        },
        "d3548039f904471680ab3471dc4ec8b9": {
          "model_module": "@jupyter-widgets/controls",
          "model_name": "DescriptionStyleModel",
          "model_module_version": "1.5.0",
          "state": {
            "_model_module": "@jupyter-widgets/controls",
            "_model_module_version": "1.5.0",
            "_model_name": "DescriptionStyleModel",
            "_view_count": null,
            "_view_module": "@jupyter-widgets/base",
            "_view_module_version": "1.2.0",
            "_view_name": "StyleView",
            "description_width": ""
          }
        },
        "5b9e01921dd94f99be624abf85ea9eda": {
          "model_module": "@jupyter-widgets/base",
          "model_name": "LayoutModel",
          "model_module_version": "1.2.0",
          "state": {
            "_model_module": "@jupyter-widgets/base",
            "_model_module_version": "1.2.0",
            "_model_name": "LayoutModel",
            "_view_count": null,
            "_view_module": "@jupyter-widgets/base",
            "_view_module_version": "1.2.0",
            "_view_name": "LayoutView",
            "align_content": null,
            "align_items": null,
            "align_self": null,
            "border": null,
            "bottom": null,
            "display": null,
            "flex": null,
            "flex_flow": null,
            "grid_area": null,
            "grid_auto_columns": null,
            "grid_auto_flow": null,
            "grid_auto_rows": null,
            "grid_column": null,
            "grid_gap": null,
            "grid_row": null,
            "grid_template_areas": null,
            "grid_template_columns": null,
            "grid_template_rows": null,
            "height": null,
            "justify_content": null,
            "justify_items": null,
            "left": null,
            "margin": null,
            "max_height": null,
            "max_width": null,
            "min_height": null,
            "min_width": null,
            "object_fit": null,
            "object_position": null,
            "order": null,
            "overflow": null,
            "overflow_x": null,
            "overflow_y": null,
            "padding": null,
            "right": null,
            "top": null,
            "visibility": null,
            "width": null
          }
        },
        "8eb00b24db9542459e6c08ca7b6ee2e3": {
          "model_module": "@jupyter-widgets/controls",
          "model_name": "ProgressStyleModel",
          "model_module_version": "1.5.0",
          "state": {
            "_model_module": "@jupyter-widgets/controls",
            "_model_module_version": "1.5.0",
            "_model_name": "ProgressStyleModel",
            "_view_count": null,
            "_view_module": "@jupyter-widgets/base",
            "_view_module_version": "1.2.0",
            "_view_name": "StyleView",
            "bar_color": null,
            "description_width": ""
          }
        },
        "8f14454defe2477496405e240f7f2658": {
          "model_module": "@jupyter-widgets/base",
          "model_name": "LayoutModel",
          "model_module_version": "1.2.0",
          "state": {
            "_model_module": "@jupyter-widgets/base",
            "_model_module_version": "1.2.0",
            "_model_name": "LayoutModel",
            "_view_count": null,
            "_view_module": "@jupyter-widgets/base",
            "_view_module_version": "1.2.0",
            "_view_name": "LayoutView",
            "align_content": null,
            "align_items": null,
            "align_self": null,
            "border": null,
            "bottom": null,
            "display": null,
            "flex": null,
            "flex_flow": null,
            "grid_area": null,
            "grid_auto_columns": null,
            "grid_auto_flow": null,
            "grid_auto_rows": null,
            "grid_column": null,
            "grid_gap": null,
            "grid_row": null,
            "grid_template_areas": null,
            "grid_template_columns": null,
            "grid_template_rows": null,
            "height": null,
            "justify_content": null,
            "justify_items": null,
            "left": null,
            "margin": null,
            "max_height": null,
            "max_width": null,
            "min_height": null,
            "min_width": null,
            "object_fit": null,
            "object_position": null,
            "order": null,
            "overflow": null,
            "overflow_x": null,
            "overflow_y": null,
            "padding": null,
            "right": null,
            "top": null,
            "visibility": null,
            "width": null
          }
        },
        "f12793b5575b4bc5a1621ec41b6ae08e": {
          "model_module": "@jupyter-widgets/controls",
          "model_name": "DescriptionStyleModel",
          "model_module_version": "1.5.0",
          "state": {
            "_model_module": "@jupyter-widgets/controls",
            "_model_module_version": "1.5.0",
            "_model_name": "DescriptionStyleModel",
            "_view_count": null,
            "_view_module": "@jupyter-widgets/base",
            "_view_module_version": "1.2.0",
            "_view_name": "StyleView",
            "description_width": ""
          }
        },
        "cd56e8a47f7e4a64b9470a50ba19b0f9": {
          "model_module": "@jupyter-widgets/controls",
          "model_name": "HBoxModel",
          "model_module_version": "1.5.0",
          "state": {
            "_dom_classes": [],
            "_model_module": "@jupyter-widgets/controls",
            "_model_module_version": "1.5.0",
            "_model_name": "HBoxModel",
            "_view_count": null,
            "_view_module": "@jupyter-widgets/controls",
            "_view_module_version": "1.5.0",
            "_view_name": "HBoxView",
            "box_style": "",
            "children": [
              "IPY_MODEL_7e578776f7e341f4be90771631cec824",
              "IPY_MODEL_2f377af92f774e908cf366cf6076fa44",
              "IPY_MODEL_4076dccd60104b06af12b44c9dfcc793"
            ],
            "layout": "IPY_MODEL_981bb0b9fa81488f979e0dca35e4fa65"
          }
        },
        "7e578776f7e341f4be90771631cec824": {
          "model_module": "@jupyter-widgets/controls",
          "model_name": "HTMLModel",
          "model_module_version": "1.5.0",
          "state": {
            "_dom_classes": [],
            "_model_module": "@jupyter-widgets/controls",
            "_model_module_version": "1.5.0",
            "_model_name": "HTMLModel",
            "_view_count": null,
            "_view_module": "@jupyter-widgets/controls",
            "_view_module_version": "1.5.0",
            "_view_name": "HTMLView",
            "description": "",
            "description_tooltip": null,
            "layout": "IPY_MODEL_8af4c96a6cd049c59c63e8b3ec3c08ca",
            "placeholder": "​",
            "style": "IPY_MODEL_587c38dd2f314e269b1eb803dc33739f",
            "value": "model.safetensors: 100%"
          }
        },
        "2f377af92f774e908cf366cf6076fa44": {
          "model_module": "@jupyter-widgets/controls",
          "model_name": "FloatProgressModel",
          "model_module_version": "1.5.0",
          "state": {
            "_dom_classes": [],
            "_model_module": "@jupyter-widgets/controls",
            "_model_module_version": "1.5.0",
            "_model_name": "FloatProgressModel",
            "_view_count": null,
            "_view_module": "@jupyter-widgets/controls",
            "_view_module_version": "1.5.0",
            "_view_name": "ProgressView",
            "bar_style": "success",
            "description": "",
            "description_tooltip": null,
            "layout": "IPY_MODEL_569e4633526e4917865cc113ec822ba9",
            "max": 1302138752,
            "min": 0,
            "orientation": "horizontal",
            "style": "IPY_MODEL_ce80d41ef4f74c47b2e5b9c79c887af0",
            "value": 1302138752
          }
        },
        "4076dccd60104b06af12b44c9dfcc793": {
          "model_module": "@jupyter-widgets/controls",
          "model_name": "HTMLModel",
          "model_module_version": "1.5.0",
          "state": {
            "_dom_classes": [],
            "_model_module": "@jupyter-widgets/controls",
            "_model_module_version": "1.5.0",
            "_model_name": "HTMLModel",
            "_view_count": null,
            "_view_module": "@jupyter-widgets/controls",
            "_view_module_version": "1.5.0",
            "_view_name": "HTMLView",
            "description": "",
            "description_tooltip": null,
            "layout": "IPY_MODEL_2bef5a1aa66546b38e0388d57edf5aae",
            "placeholder": "​",
            "style": "IPY_MODEL_439f9bb67fe7489c92d55e847fe78d29",
            "value": " 1.30G/1.30G [00:12&lt;00:00, 181MB/s]"
          }
        },
        "981bb0b9fa81488f979e0dca35e4fa65": {
          "model_module": "@jupyter-widgets/base",
          "model_name": "LayoutModel",
          "model_module_version": "1.2.0",
          "state": {
            "_model_module": "@jupyter-widgets/base",
            "_model_module_version": "1.2.0",
            "_model_name": "LayoutModel",
            "_view_count": null,
            "_view_module": "@jupyter-widgets/base",
            "_view_module_version": "1.2.0",
            "_view_name": "LayoutView",
            "align_content": null,
            "align_items": null,
            "align_self": null,
            "border": null,
            "bottom": null,
            "display": null,
            "flex": null,
            "flex_flow": null,
            "grid_area": null,
            "grid_auto_columns": null,
            "grid_auto_flow": null,
            "grid_auto_rows": null,
            "grid_column": null,
            "grid_gap": null,
            "grid_row": null,
            "grid_template_areas": null,
            "grid_template_columns": null,
            "grid_template_rows": null,
            "height": null,
            "justify_content": null,
            "justify_items": null,
            "left": null,
            "margin": null,
            "max_height": null,
            "max_width": null,
            "min_height": null,
            "min_width": null,
            "object_fit": null,
            "object_position": null,
            "order": null,
            "overflow": null,
            "overflow_x": null,
            "overflow_y": null,
            "padding": null,
            "right": null,
            "top": null,
            "visibility": null,
            "width": null
          }
        },
        "8af4c96a6cd049c59c63e8b3ec3c08ca": {
          "model_module": "@jupyter-widgets/base",
          "model_name": "LayoutModel",
          "model_module_version": "1.2.0",
          "state": {
            "_model_module": "@jupyter-widgets/base",
            "_model_module_version": "1.2.0",
            "_model_name": "LayoutModel",
            "_view_count": null,
            "_view_module": "@jupyter-widgets/base",
            "_view_module_version": "1.2.0",
            "_view_name": "LayoutView",
            "align_content": null,
            "align_items": null,
            "align_self": null,
            "border": null,
            "bottom": null,
            "display": null,
            "flex": null,
            "flex_flow": null,
            "grid_area": null,
            "grid_auto_columns": null,
            "grid_auto_flow": null,
            "grid_auto_rows": null,
            "grid_column": null,
            "grid_gap": null,
            "grid_row": null,
            "grid_template_areas": null,
            "grid_template_columns": null,
            "grid_template_rows": null,
            "height": null,
            "justify_content": null,
            "justify_items": null,
            "left": null,
            "margin": null,
            "max_height": null,
            "max_width": null,
            "min_height": null,
            "min_width": null,
            "object_fit": null,
            "object_position": null,
            "order": null,
            "overflow": null,
            "overflow_x": null,
            "overflow_y": null,
            "padding": null,
            "right": null,
            "top": null,
            "visibility": null,
            "width": null
          }
        },
        "587c38dd2f314e269b1eb803dc33739f": {
          "model_module": "@jupyter-widgets/controls",
          "model_name": "DescriptionStyleModel",
          "model_module_version": "1.5.0",
          "state": {
            "_model_module": "@jupyter-widgets/controls",
            "_model_module_version": "1.5.0",
            "_model_name": "DescriptionStyleModel",
            "_view_count": null,
            "_view_module": "@jupyter-widgets/base",
            "_view_module_version": "1.2.0",
            "_view_name": "StyleView",
            "description_width": ""
          }
        },
        "569e4633526e4917865cc113ec822ba9": {
          "model_module": "@jupyter-widgets/base",
          "model_name": "LayoutModel",
          "model_module_version": "1.2.0",
          "state": {
            "_model_module": "@jupyter-widgets/base",
            "_model_module_version": "1.2.0",
            "_model_name": "LayoutModel",
            "_view_count": null,
            "_view_module": "@jupyter-widgets/base",
            "_view_module_version": "1.2.0",
            "_view_name": "LayoutView",
            "align_content": null,
            "align_items": null,
            "align_self": null,
            "border": null,
            "bottom": null,
            "display": null,
            "flex": null,
            "flex_flow": null,
            "grid_area": null,
            "grid_auto_columns": null,
            "grid_auto_flow": null,
            "grid_auto_rows": null,
            "grid_column": null,
            "grid_gap": null,
            "grid_row": null,
            "grid_template_areas": null,
            "grid_template_columns": null,
            "grid_template_rows": null,
            "height": null,
            "justify_content": null,
            "justify_items": null,
            "left": null,
            "margin": null,
            "max_height": null,
            "max_width": null,
            "min_height": null,
            "min_width": null,
            "object_fit": null,
            "object_position": null,
            "order": null,
            "overflow": null,
            "overflow_x": null,
            "overflow_y": null,
            "padding": null,
            "right": null,
            "top": null,
            "visibility": null,
            "width": null
          }
        },
        "ce80d41ef4f74c47b2e5b9c79c887af0": {
          "model_module": "@jupyter-widgets/controls",
          "model_name": "ProgressStyleModel",
          "model_module_version": "1.5.0",
          "state": {
            "_model_module": "@jupyter-widgets/controls",
            "_model_module_version": "1.5.0",
            "_model_name": "ProgressStyleModel",
            "_view_count": null,
            "_view_module": "@jupyter-widgets/base",
            "_view_module_version": "1.2.0",
            "_view_name": "StyleView",
            "bar_color": null,
            "description_width": ""
          }
        },
        "2bef5a1aa66546b38e0388d57edf5aae": {
          "model_module": "@jupyter-widgets/base",
          "model_name": "LayoutModel",
          "model_module_version": "1.2.0",
          "state": {
            "_model_module": "@jupyter-widgets/base",
            "_model_module_version": "1.2.0",
            "_model_name": "LayoutModel",
            "_view_count": null,
            "_view_module": "@jupyter-widgets/base",
            "_view_module_version": "1.2.0",
            "_view_name": "LayoutView",
            "align_content": null,
            "align_items": null,
            "align_self": null,
            "border": null,
            "bottom": null,
            "display": null,
            "flex": null,
            "flex_flow": null,
            "grid_area": null,
            "grid_auto_columns": null,
            "grid_auto_flow": null,
            "grid_auto_rows": null,
            "grid_column": null,
            "grid_gap": null,
            "grid_row": null,
            "grid_template_areas": null,
            "grid_template_columns": null,
            "grid_template_rows": null,
            "height": null,
            "justify_content": null,
            "justify_items": null,
            "left": null,
            "margin": null,
            "max_height": null,
            "max_width": null,
            "min_height": null,
            "min_width": null,
            "object_fit": null,
            "object_position": null,
            "order": null,
            "overflow": null,
            "overflow_x": null,
            "overflow_y": null,
            "padding": null,
            "right": null,
            "top": null,
            "visibility": null,
            "width": null
          }
        },
        "439f9bb67fe7489c92d55e847fe78d29": {
          "model_module": "@jupyter-widgets/controls",
          "model_name": "DescriptionStyleModel",
          "model_module_version": "1.5.0",
          "state": {
            "_model_module": "@jupyter-widgets/controls",
            "_model_module_version": "1.5.0",
            "_model_name": "DescriptionStyleModel",
            "_view_count": null,
            "_view_module": "@jupyter-widgets/base",
            "_view_module_version": "1.2.0",
            "_view_name": "StyleView",
            "description_width": ""
          }
        },
        "b1a8395efa0a46ad81f792be29891558": {
          "model_module": "@jupyter-widgets/controls",
          "model_name": "HBoxModel",
          "model_module_version": "1.5.0",
          "state": {
            "_dom_classes": [],
            "_model_module": "@jupyter-widgets/controls",
            "_model_module_version": "1.5.0",
            "_model_name": "HBoxModel",
            "_view_count": null,
            "_view_module": "@jupyter-widgets/controls",
            "_view_module_version": "1.5.0",
            "_view_name": "HBoxView",
            "box_style": "",
            "children": [
              "IPY_MODEL_dc14f0d7128d4abeb69deca736270451",
              "IPY_MODEL_4bbb5a5db7bb47a4806339fbe1107778",
              "IPY_MODEL_3316169461f348378d5ed2d46af669c1"
            ],
            "layout": "IPY_MODEL_a906e5f73c164b2f853f1d9a7588d701"
          }
        },
        "dc14f0d7128d4abeb69deca736270451": {
          "model_module": "@jupyter-widgets/controls",
          "model_name": "HTMLModel",
          "model_module_version": "1.5.0",
          "state": {
            "_dom_classes": [],
            "_model_module": "@jupyter-widgets/controls",
            "_model_module_version": "1.5.0",
            "_model_name": "HTMLModel",
            "_view_count": null,
            "_view_module": "@jupyter-widgets/controls",
            "_view_module_version": "1.5.0",
            "_view_name": "HTMLView",
            "description": "",
            "description_tooltip": null,
            "layout": "IPY_MODEL_a9c6dd37dc624b8da749c39251b1842e",
            "placeholder": "​",
            "style": "IPY_MODEL_724cac1d5bf24a269f613b278a9e2d58",
            "value": "tokenizer_config.json: 100%"
          }
        },
        "4bbb5a5db7bb47a4806339fbe1107778": {
          "model_module": "@jupyter-widgets/controls",
          "model_name": "FloatProgressModel",
          "model_module_version": "1.5.0",
          "state": {
            "_dom_classes": [],
            "_model_module": "@jupyter-widgets/controls",
            "_model_module_version": "1.5.0",
            "_model_name": "FloatProgressModel",
            "_view_count": null,
            "_view_module": "@jupyter-widgets/controls",
            "_view_module_version": "1.5.0",
            "_view_name": "ProgressView",
            "bar_style": "success",
            "description": "",
            "description_tooltip": null,
            "layout": "IPY_MODEL_7e3621796d6d4f5b9a0791669a09ac36",
            "max": 514,
            "min": 0,
            "orientation": "horizontal",
            "style": "IPY_MODEL_21fd1f905e3746a5b12148a16addfe32",
            "value": 514
          }
        },
        "3316169461f348378d5ed2d46af669c1": {
          "model_module": "@jupyter-widgets/controls",
          "model_name": "HTMLModel",
          "model_module_version": "1.5.0",
          "state": {
            "_dom_classes": [],
            "_model_module": "@jupyter-widgets/controls",
            "_model_module_version": "1.5.0",
            "_model_name": "HTMLModel",
            "_view_count": null,
            "_view_module": "@jupyter-widgets/controls",
            "_view_module_version": "1.5.0",
            "_view_name": "HTMLView",
            "description": "",
            "description_tooltip": null,
            "layout": "IPY_MODEL_ee169e4a1b2c4aaf9dd1da3402c7e8c7",
            "placeholder": "​",
            "style": "IPY_MODEL_d2f46e99cdba4cdeb60767706c47b889",
            "value": " 514/514 [00:00&lt;00:00, 57.1kB/s]"
          }
        },
        "a906e5f73c164b2f853f1d9a7588d701": {
          "model_module": "@jupyter-widgets/base",
          "model_name": "LayoutModel",
          "model_module_version": "1.2.0",
          "state": {
            "_model_module": "@jupyter-widgets/base",
            "_model_module_version": "1.2.0",
            "_model_name": "LayoutModel",
            "_view_count": null,
            "_view_module": "@jupyter-widgets/base",
            "_view_module_version": "1.2.0",
            "_view_name": "LayoutView",
            "align_content": null,
            "align_items": null,
            "align_self": null,
            "border": null,
            "bottom": null,
            "display": null,
            "flex": null,
            "flex_flow": null,
            "grid_area": null,
            "grid_auto_columns": null,
            "grid_auto_flow": null,
            "grid_auto_rows": null,
            "grid_column": null,
            "grid_gap": null,
            "grid_row": null,
            "grid_template_areas": null,
            "grid_template_columns": null,
            "grid_template_rows": null,
            "height": null,
            "justify_content": null,
            "justify_items": null,
            "left": null,
            "margin": null,
            "max_height": null,
            "max_width": null,
            "min_height": null,
            "min_width": null,
            "object_fit": null,
            "object_position": null,
            "order": null,
            "overflow": null,
            "overflow_x": null,
            "overflow_y": null,
            "padding": null,
            "right": null,
            "top": null,
            "visibility": null,
            "width": null
          }
        },
        "a9c6dd37dc624b8da749c39251b1842e": {
          "model_module": "@jupyter-widgets/base",
          "model_name": "LayoutModel",
          "model_module_version": "1.2.0",
          "state": {
            "_model_module": "@jupyter-widgets/base",
            "_model_module_version": "1.2.0",
            "_model_name": "LayoutModel",
            "_view_count": null,
            "_view_module": "@jupyter-widgets/base",
            "_view_module_version": "1.2.0",
            "_view_name": "LayoutView",
            "align_content": null,
            "align_items": null,
            "align_self": null,
            "border": null,
            "bottom": null,
            "display": null,
            "flex": null,
            "flex_flow": null,
            "grid_area": null,
            "grid_auto_columns": null,
            "grid_auto_flow": null,
            "grid_auto_rows": null,
            "grid_column": null,
            "grid_gap": null,
            "grid_row": null,
            "grid_template_areas": null,
            "grid_template_columns": null,
            "grid_template_rows": null,
            "height": null,
            "justify_content": null,
            "justify_items": null,
            "left": null,
            "margin": null,
            "max_height": null,
            "max_width": null,
            "min_height": null,
            "min_width": null,
            "object_fit": null,
            "object_position": null,
            "order": null,
            "overflow": null,
            "overflow_x": null,
            "overflow_y": null,
            "padding": null,
            "right": null,
            "top": null,
            "visibility": null,
            "width": null
          }
        },
        "724cac1d5bf24a269f613b278a9e2d58": {
          "model_module": "@jupyter-widgets/controls",
          "model_name": "DescriptionStyleModel",
          "model_module_version": "1.5.0",
          "state": {
            "_model_module": "@jupyter-widgets/controls",
            "_model_module_version": "1.5.0",
            "_model_name": "DescriptionStyleModel",
            "_view_count": null,
            "_view_module": "@jupyter-widgets/base",
            "_view_module_version": "1.2.0",
            "_view_name": "StyleView",
            "description_width": ""
          }
        },
        "7e3621796d6d4f5b9a0791669a09ac36": {
          "model_module": "@jupyter-widgets/base",
          "model_name": "LayoutModel",
          "model_module_version": "1.2.0",
          "state": {
            "_model_module": "@jupyter-widgets/base",
            "_model_module_version": "1.2.0",
            "_model_name": "LayoutModel",
            "_view_count": null,
            "_view_module": "@jupyter-widgets/base",
            "_view_module_version": "1.2.0",
            "_view_name": "LayoutView",
            "align_content": null,
            "align_items": null,
            "align_self": null,
            "border": null,
            "bottom": null,
            "display": null,
            "flex": null,
            "flex_flow": null,
            "grid_area": null,
            "grid_auto_columns": null,
            "grid_auto_flow": null,
            "grid_auto_rows": null,
            "grid_column": null,
            "grid_gap": null,
            "grid_row": null,
            "grid_template_areas": null,
            "grid_template_columns": null,
            "grid_template_rows": null,
            "height": null,
            "justify_content": null,
            "justify_items": null,
            "left": null,
            "margin": null,
            "max_height": null,
            "max_width": null,
            "min_height": null,
            "min_width": null,
            "object_fit": null,
            "object_position": null,
            "order": null,
            "overflow": null,
            "overflow_x": null,
            "overflow_y": null,
            "padding": null,
            "right": null,
            "top": null,
            "visibility": null,
            "width": null
          }
        },
        "21fd1f905e3746a5b12148a16addfe32": {
          "model_module": "@jupyter-widgets/controls",
          "model_name": "ProgressStyleModel",
          "model_module_version": "1.5.0",
          "state": {
            "_model_module": "@jupyter-widgets/controls",
            "_model_module_version": "1.5.0",
            "_model_name": "ProgressStyleModel",
            "_view_count": null,
            "_view_module": "@jupyter-widgets/base",
            "_view_module_version": "1.2.0",
            "_view_name": "StyleView",
            "bar_color": null,
            "description_width": ""
          }
        },
        "ee169e4a1b2c4aaf9dd1da3402c7e8c7": {
          "model_module": "@jupyter-widgets/base",
          "model_name": "LayoutModel",
          "model_module_version": "1.2.0",
          "state": {
            "_model_module": "@jupyter-widgets/base",
            "_model_module_version": "1.2.0",
            "_model_name": "LayoutModel",
            "_view_count": null,
            "_view_module": "@jupyter-widgets/base",
            "_view_module_version": "1.2.0",
            "_view_name": "LayoutView",
            "align_content": null,
            "align_items": null,
            "align_self": null,
            "border": null,
            "bottom": null,
            "display": null,
            "flex": null,
            "flex_flow": null,
            "grid_area": null,
            "grid_auto_columns": null,
            "grid_auto_flow": null,
            "grid_auto_rows": null,
            "grid_column": null,
            "grid_gap": null,
            "grid_row": null,
            "grid_template_areas": null,
            "grid_template_columns": null,
            "grid_template_rows": null,
            "height": null,
            "justify_content": null,
            "justify_items": null,
            "left": null,
            "margin": null,
            "max_height": null,
            "max_width": null,
            "min_height": null,
            "min_width": null,
            "object_fit": null,
            "object_position": null,
            "order": null,
            "overflow": null,
            "overflow_x": null,
            "overflow_y": null,
            "padding": null,
            "right": null,
            "top": null,
            "visibility": null,
            "width": null
          }
        },
        "d2f46e99cdba4cdeb60767706c47b889": {
          "model_module": "@jupyter-widgets/controls",
          "model_name": "DescriptionStyleModel",
          "model_module_version": "1.5.0",
          "state": {
            "_model_module": "@jupyter-widgets/controls",
            "_model_module_version": "1.5.0",
            "_model_name": "DescriptionStyleModel",
            "_view_count": null,
            "_view_module": "@jupyter-widgets/base",
            "_view_module_version": "1.2.0",
            "_view_name": "StyleView",
            "description_width": ""
          }
        },
        "089d723852a4497aa6cfab4fdf62c5c2": {
          "model_module": "@jupyter-widgets/controls",
          "model_name": "HBoxModel",
          "model_module_version": "1.5.0",
          "state": {
            "_dom_classes": [],
            "_model_module": "@jupyter-widgets/controls",
            "_model_module_version": "1.5.0",
            "_model_name": "HBoxModel",
            "_view_count": null,
            "_view_module": "@jupyter-widgets/controls",
            "_view_module_version": "1.5.0",
            "_view_name": "HBoxView",
            "box_style": "",
            "children": [
              "IPY_MODEL_649d3982bcee4d22ac9d37bcc04a5d07",
              "IPY_MODEL_3dfbcc5af3b5495b85faa64e01fb5efc",
              "IPY_MODEL_1865ea5bce3145bebea5434bcf9b4084"
            ],
            "layout": "IPY_MODEL_4f461d983e0c402581046786e0002c8e"
          }
        },
        "649d3982bcee4d22ac9d37bcc04a5d07": {
          "model_module": "@jupyter-widgets/controls",
          "model_name": "HTMLModel",
          "model_module_version": "1.5.0",
          "state": {
            "_dom_classes": [],
            "_model_module": "@jupyter-widgets/controls",
            "_model_module_version": "1.5.0",
            "_model_name": "HTMLModel",
            "_view_count": null,
            "_view_module": "@jupyter-widgets/controls",
            "_view_module_version": "1.5.0",
            "_view_name": "HTMLView",
            "description": "",
            "description_tooltip": null,
            "layout": "IPY_MODEL_12b0d581d8df43b884ebb22513fc61bc",
            "placeholder": "​",
            "style": "IPY_MODEL_eb9062fe175949cabb45e84b2436094e",
            "value": "vocab.txt: 100%"
          }
        },
        "3dfbcc5af3b5495b85faa64e01fb5efc": {
          "model_module": "@jupyter-widgets/controls",
          "model_name": "FloatProgressModel",
          "model_module_version": "1.5.0",
          "state": {
            "_dom_classes": [],
            "_model_module": "@jupyter-widgets/controls",
            "_model_module_version": "1.5.0",
            "_model_name": "FloatProgressModel",
            "_view_count": null,
            "_view_module": "@jupyter-widgets/controls",
            "_view_module_version": "1.5.0",
            "_view_name": "ProgressView",
            "bar_style": "success",
            "description": "",
            "description_tooltip": null,
            "layout": "IPY_MODEL_57110dbc33c648e9ac64433318377d95",
            "max": 109540,
            "min": 0,
            "orientation": "horizontal",
            "style": "IPY_MODEL_08c5e2ed9254494daad087381a4a8a78",
            "value": 109540
          }
        },
        "1865ea5bce3145bebea5434bcf9b4084": {
          "model_module": "@jupyter-widgets/controls",
          "model_name": "HTMLModel",
          "model_module_version": "1.5.0",
          "state": {
            "_dom_classes": [],
            "_model_module": "@jupyter-widgets/controls",
            "_model_module_version": "1.5.0",
            "_model_name": "HTMLModel",
            "_view_count": null,
            "_view_module": "@jupyter-widgets/controls",
            "_view_module_version": "1.5.0",
            "_view_name": "HTMLView",
            "description": "",
            "description_tooltip": null,
            "layout": "IPY_MODEL_a0332a564b2745e794cde5d3f91fc4ba",
            "placeholder": "​",
            "style": "IPY_MODEL_9e9f99a6ba3346d792ecbab071bbf5d8",
            "value": " 110k/110k [00:00&lt;00:00, 7.39MB/s]"
          }
        },
        "4f461d983e0c402581046786e0002c8e": {
          "model_module": "@jupyter-widgets/base",
          "model_name": "LayoutModel",
          "model_module_version": "1.2.0",
          "state": {
            "_model_module": "@jupyter-widgets/base",
            "_model_module_version": "1.2.0",
            "_model_name": "LayoutModel",
            "_view_count": null,
            "_view_module": "@jupyter-widgets/base",
            "_view_module_version": "1.2.0",
            "_view_name": "LayoutView",
            "align_content": null,
            "align_items": null,
            "align_self": null,
            "border": null,
            "bottom": null,
            "display": null,
            "flex": null,
            "flex_flow": null,
            "grid_area": null,
            "grid_auto_columns": null,
            "grid_auto_flow": null,
            "grid_auto_rows": null,
            "grid_column": null,
            "grid_gap": null,
            "grid_row": null,
            "grid_template_areas": null,
            "grid_template_columns": null,
            "grid_template_rows": null,
            "height": null,
            "justify_content": null,
            "justify_items": null,
            "left": null,
            "margin": null,
            "max_height": null,
            "max_width": null,
            "min_height": null,
            "min_width": null,
            "object_fit": null,
            "object_position": null,
            "order": null,
            "overflow": null,
            "overflow_x": null,
            "overflow_y": null,
            "padding": null,
            "right": null,
            "top": null,
            "visibility": null,
            "width": null
          }
        },
        "12b0d581d8df43b884ebb22513fc61bc": {
          "model_module": "@jupyter-widgets/base",
          "model_name": "LayoutModel",
          "model_module_version": "1.2.0",
          "state": {
            "_model_module": "@jupyter-widgets/base",
            "_model_module_version": "1.2.0",
            "_model_name": "LayoutModel",
            "_view_count": null,
            "_view_module": "@jupyter-widgets/base",
            "_view_module_version": "1.2.0",
            "_view_name": "LayoutView",
            "align_content": null,
            "align_items": null,
            "align_self": null,
            "border": null,
            "bottom": null,
            "display": null,
            "flex": null,
            "flex_flow": null,
            "grid_area": null,
            "grid_auto_columns": null,
            "grid_auto_flow": null,
            "grid_auto_rows": null,
            "grid_column": null,
            "grid_gap": null,
            "grid_row": null,
            "grid_template_areas": null,
            "grid_template_columns": null,
            "grid_template_rows": null,
            "height": null,
            "justify_content": null,
            "justify_items": null,
            "left": null,
            "margin": null,
            "max_height": null,
            "max_width": null,
            "min_height": null,
            "min_width": null,
            "object_fit": null,
            "object_position": null,
            "order": null,
            "overflow": null,
            "overflow_x": null,
            "overflow_y": null,
            "padding": null,
            "right": null,
            "top": null,
            "visibility": null,
            "width": null
          }
        },
        "eb9062fe175949cabb45e84b2436094e": {
          "model_module": "@jupyter-widgets/controls",
          "model_name": "DescriptionStyleModel",
          "model_module_version": "1.5.0",
          "state": {
            "_model_module": "@jupyter-widgets/controls",
            "_model_module_version": "1.5.0",
            "_model_name": "DescriptionStyleModel",
            "_view_count": null,
            "_view_module": "@jupyter-widgets/base",
            "_view_module_version": "1.2.0",
            "_view_name": "StyleView",
            "description_width": ""
          }
        },
        "57110dbc33c648e9ac64433318377d95": {
          "model_module": "@jupyter-widgets/base",
          "model_name": "LayoutModel",
          "model_module_version": "1.2.0",
          "state": {
            "_model_module": "@jupyter-widgets/base",
            "_model_module_version": "1.2.0",
            "_model_name": "LayoutModel",
            "_view_count": null,
            "_view_module": "@jupyter-widgets/base",
            "_view_module_version": "1.2.0",
            "_view_name": "LayoutView",
            "align_content": null,
            "align_items": null,
            "align_self": null,
            "border": null,
            "bottom": null,
            "display": null,
            "flex": null,
            "flex_flow": null,
            "grid_area": null,
            "grid_auto_columns": null,
            "grid_auto_flow": null,
            "grid_auto_rows": null,
            "grid_column": null,
            "grid_gap": null,
            "grid_row": null,
            "grid_template_areas": null,
            "grid_template_columns": null,
            "grid_template_rows": null,
            "height": null,
            "justify_content": null,
            "justify_items": null,
            "left": null,
            "margin": null,
            "max_height": null,
            "max_width": null,
            "min_height": null,
            "min_width": null,
            "object_fit": null,
            "object_position": null,
            "order": null,
            "overflow": null,
            "overflow_x": null,
            "overflow_y": null,
            "padding": null,
            "right": null,
            "top": null,
            "visibility": null,
            "width": null
          }
        },
        "08c5e2ed9254494daad087381a4a8a78": {
          "model_module": "@jupyter-widgets/controls",
          "model_name": "ProgressStyleModel",
          "model_module_version": "1.5.0",
          "state": {
            "_model_module": "@jupyter-widgets/controls",
            "_model_module_version": "1.5.0",
            "_model_name": "ProgressStyleModel",
            "_view_count": null,
            "_view_module": "@jupyter-widgets/base",
            "_view_module_version": "1.2.0",
            "_view_name": "StyleView",
            "bar_color": null,
            "description_width": ""
          }
        },
        "a0332a564b2745e794cde5d3f91fc4ba": {
          "model_module": "@jupyter-widgets/base",
          "model_name": "LayoutModel",
          "model_module_version": "1.2.0",
          "state": {
            "_model_module": "@jupyter-widgets/base",
            "_model_module_version": "1.2.0",
            "_model_name": "LayoutModel",
            "_view_count": null,
            "_view_module": "@jupyter-widgets/base",
            "_view_module_version": "1.2.0",
            "_view_name": "LayoutView",
            "align_content": null,
            "align_items": null,
            "align_self": null,
            "border": null,
            "bottom": null,
            "display": null,
            "flex": null,
            "flex_flow": null,
            "grid_area": null,
            "grid_auto_columns": null,
            "grid_auto_flow": null,
            "grid_auto_rows": null,
            "grid_column": null,
            "grid_gap": null,
            "grid_row": null,
            "grid_template_areas": null,
            "grid_template_columns": null,
            "grid_template_rows": null,
            "height": null,
            "justify_content": null,
            "justify_items": null,
            "left": null,
            "margin": null,
            "max_height": null,
            "max_width": null,
            "min_height": null,
            "min_width": null,
            "object_fit": null,
            "object_position": null,
            "order": null,
            "overflow": null,
            "overflow_x": null,
            "overflow_y": null,
            "padding": null,
            "right": null,
            "top": null,
            "visibility": null,
            "width": null
          }
        },
        "9e9f99a6ba3346d792ecbab071bbf5d8": {
          "model_module": "@jupyter-widgets/controls",
          "model_name": "DescriptionStyleModel",
          "model_module_version": "1.5.0",
          "state": {
            "_model_module": "@jupyter-widgets/controls",
            "_model_module_version": "1.5.0",
            "_model_name": "DescriptionStyleModel",
            "_view_count": null,
            "_view_module": "@jupyter-widgets/base",
            "_view_module_version": "1.2.0",
            "_view_name": "StyleView",
            "description_width": ""
          }
        },
        "6a66c5eb971e4e86bfefae7c733d7d1b": {
          "model_module": "@jupyter-widgets/controls",
          "model_name": "HBoxModel",
          "model_module_version": "1.5.0",
          "state": {
            "_dom_classes": [],
            "_model_module": "@jupyter-widgets/controls",
            "_model_module_version": "1.5.0",
            "_model_name": "HBoxModel",
            "_view_count": null,
            "_view_module": "@jupyter-widgets/controls",
            "_view_module_version": "1.5.0",
            "_view_name": "HBoxView",
            "box_style": "",
            "children": [
              "IPY_MODEL_8df861a61a8b49148bc66855b61bffed",
              "IPY_MODEL_ce5c07a1c61b417a8ced7b6bab999972",
              "IPY_MODEL_083b52cbb1f245b2b087700563a44655"
            ],
            "layout": "IPY_MODEL_67d856508d2a4c2f99ae62e8f4f7a93e"
          }
        },
        "8df861a61a8b49148bc66855b61bffed": {
          "model_module": "@jupyter-widgets/controls",
          "model_name": "HTMLModel",
          "model_module_version": "1.5.0",
          "state": {
            "_dom_classes": [],
            "_model_module": "@jupyter-widgets/controls",
            "_model_module_version": "1.5.0",
            "_model_name": "HTMLModel",
            "_view_count": null,
            "_view_module": "@jupyter-widgets/controls",
            "_view_module_version": "1.5.0",
            "_view_name": "HTMLView",
            "description": "",
            "description_tooltip": null,
            "layout": "IPY_MODEL_4976059f5ee0489380eacc014630df3c",
            "placeholder": "​",
            "style": "IPY_MODEL_00097996f34a49018317b0a7ff087163",
            "value": "tokenizer.json: 100%"
          }
        },
        "ce5c07a1c61b417a8ced7b6bab999972": {
          "model_module": "@jupyter-widgets/controls",
          "model_name": "FloatProgressModel",
          "model_module_version": "1.5.0",
          "state": {
            "_dom_classes": [],
            "_model_module": "@jupyter-widgets/controls",
            "_model_module_version": "1.5.0",
            "_model_name": "FloatProgressModel",
            "_view_count": null,
            "_view_module": "@jupyter-widgets/controls",
            "_view_module_version": "1.5.0",
            "_view_name": "ProgressView",
            "bar_style": "success",
            "description": "",
            "description_tooltip": null,
            "layout": "IPY_MODEL_d410977abce649e4b08d788ebe77c2df",
            "max": 439387,
            "min": 0,
            "orientation": "horizontal",
            "style": "IPY_MODEL_001fb4ced5ee47bdb571c6582942860a",
            "value": 439387
          }
        },
        "083b52cbb1f245b2b087700563a44655": {
          "model_module": "@jupyter-widgets/controls",
          "model_name": "HTMLModel",
          "model_module_version": "1.5.0",
          "state": {
            "_dom_classes": [],
            "_model_module": "@jupyter-widgets/controls",
            "_model_module_version": "1.5.0",
            "_model_name": "HTMLModel",
            "_view_count": null,
            "_view_module": "@jupyter-widgets/controls",
            "_view_module_version": "1.5.0",
            "_view_name": "HTMLView",
            "description": "",
            "description_tooltip": null,
            "layout": "IPY_MODEL_72e6242cb7044b7686e9266978b3d80f",
            "placeholder": "​",
            "style": "IPY_MODEL_0123a41c22a34ff1b6351a44dcfadd75",
            "value": " 439k/439k [00:00&lt;00:00, 2.01MB/s]"
          }
        },
        "67d856508d2a4c2f99ae62e8f4f7a93e": {
          "model_module": "@jupyter-widgets/base",
          "model_name": "LayoutModel",
          "model_module_version": "1.2.0",
          "state": {
            "_model_module": "@jupyter-widgets/base",
            "_model_module_version": "1.2.0",
            "_model_name": "LayoutModel",
            "_view_count": null,
            "_view_module": "@jupyter-widgets/base",
            "_view_module_version": "1.2.0",
            "_view_name": "LayoutView",
            "align_content": null,
            "align_items": null,
            "align_self": null,
            "border": null,
            "bottom": null,
            "display": null,
            "flex": null,
            "flex_flow": null,
            "grid_area": null,
            "grid_auto_columns": null,
            "grid_auto_flow": null,
            "grid_auto_rows": null,
            "grid_column": null,
            "grid_gap": null,
            "grid_row": null,
            "grid_template_areas": null,
            "grid_template_columns": null,
            "grid_template_rows": null,
            "height": null,
            "justify_content": null,
            "justify_items": null,
            "left": null,
            "margin": null,
            "max_height": null,
            "max_width": null,
            "min_height": null,
            "min_width": null,
            "object_fit": null,
            "object_position": null,
            "order": null,
            "overflow": null,
            "overflow_x": null,
            "overflow_y": null,
            "padding": null,
            "right": null,
            "top": null,
            "visibility": null,
            "width": null
          }
        },
        "4976059f5ee0489380eacc014630df3c": {
          "model_module": "@jupyter-widgets/base",
          "model_name": "LayoutModel",
          "model_module_version": "1.2.0",
          "state": {
            "_model_module": "@jupyter-widgets/base",
            "_model_module_version": "1.2.0",
            "_model_name": "LayoutModel",
            "_view_count": null,
            "_view_module": "@jupyter-widgets/base",
            "_view_module_version": "1.2.0",
            "_view_name": "LayoutView",
            "align_content": null,
            "align_items": null,
            "align_self": null,
            "border": null,
            "bottom": null,
            "display": null,
            "flex": null,
            "flex_flow": null,
            "grid_area": null,
            "grid_auto_columns": null,
            "grid_auto_flow": null,
            "grid_auto_rows": null,
            "grid_column": null,
            "grid_gap": null,
            "grid_row": null,
            "grid_template_areas": null,
            "grid_template_columns": null,
            "grid_template_rows": null,
            "height": null,
            "justify_content": null,
            "justify_items": null,
            "left": null,
            "margin": null,
            "max_height": null,
            "max_width": null,
            "min_height": null,
            "min_width": null,
            "object_fit": null,
            "object_position": null,
            "order": null,
            "overflow": null,
            "overflow_x": null,
            "overflow_y": null,
            "padding": null,
            "right": null,
            "top": null,
            "visibility": null,
            "width": null
          }
        },
        "00097996f34a49018317b0a7ff087163": {
          "model_module": "@jupyter-widgets/controls",
          "model_name": "DescriptionStyleModel",
          "model_module_version": "1.5.0",
          "state": {
            "_model_module": "@jupyter-widgets/controls",
            "_model_module_version": "1.5.0",
            "_model_name": "DescriptionStyleModel",
            "_view_count": null,
            "_view_module": "@jupyter-widgets/base",
            "_view_module_version": "1.2.0",
            "_view_name": "StyleView",
            "description_width": ""
          }
        },
        "d410977abce649e4b08d788ebe77c2df": {
          "model_module": "@jupyter-widgets/base",
          "model_name": "LayoutModel",
          "model_module_version": "1.2.0",
          "state": {
            "_model_module": "@jupyter-widgets/base",
            "_model_module_version": "1.2.0",
            "_model_name": "LayoutModel",
            "_view_count": null,
            "_view_module": "@jupyter-widgets/base",
            "_view_module_version": "1.2.0",
            "_view_name": "LayoutView",
            "align_content": null,
            "align_items": null,
            "align_self": null,
            "border": null,
            "bottom": null,
            "display": null,
            "flex": null,
            "flex_flow": null,
            "grid_area": null,
            "grid_auto_columns": null,
            "grid_auto_flow": null,
            "grid_auto_rows": null,
            "grid_column": null,
            "grid_gap": null,
            "grid_row": null,
            "grid_template_areas": null,
            "grid_template_columns": null,
            "grid_template_rows": null,
            "height": null,
            "justify_content": null,
            "justify_items": null,
            "left": null,
            "margin": null,
            "max_height": null,
            "max_width": null,
            "min_height": null,
            "min_width": null,
            "object_fit": null,
            "object_position": null,
            "order": null,
            "overflow": null,
            "overflow_x": null,
            "overflow_y": null,
            "padding": null,
            "right": null,
            "top": null,
            "visibility": null,
            "width": null
          }
        },
        "001fb4ced5ee47bdb571c6582942860a": {
          "model_module": "@jupyter-widgets/controls",
          "model_name": "ProgressStyleModel",
          "model_module_version": "1.5.0",
          "state": {
            "_model_module": "@jupyter-widgets/controls",
            "_model_module_version": "1.5.0",
            "_model_name": "ProgressStyleModel",
            "_view_count": null,
            "_view_module": "@jupyter-widgets/base",
            "_view_module_version": "1.2.0",
            "_view_name": "StyleView",
            "bar_color": null,
            "description_width": ""
          }
        },
        "72e6242cb7044b7686e9266978b3d80f": {
          "model_module": "@jupyter-widgets/base",
          "model_name": "LayoutModel",
          "model_module_version": "1.2.0",
          "state": {
            "_model_module": "@jupyter-widgets/base",
            "_model_module_version": "1.2.0",
            "_model_name": "LayoutModel",
            "_view_count": null,
            "_view_module": "@jupyter-widgets/base",
            "_view_module_version": "1.2.0",
            "_view_name": "LayoutView",
            "align_content": null,
            "align_items": null,
            "align_self": null,
            "border": null,
            "bottom": null,
            "display": null,
            "flex": null,
            "flex_flow": null,
            "grid_area": null,
            "grid_auto_columns": null,
            "grid_auto_flow": null,
            "grid_auto_rows": null,
            "grid_column": null,
            "grid_gap": null,
            "grid_row": null,
            "grid_template_areas": null,
            "grid_template_columns": null,
            "grid_template_rows": null,
            "height": null,
            "justify_content": null,
            "justify_items": null,
            "left": null,
            "margin": null,
            "max_height": null,
            "max_width": null,
            "min_height": null,
            "min_width": null,
            "object_fit": null,
            "object_position": null,
            "order": null,
            "overflow": null,
            "overflow_x": null,
            "overflow_y": null,
            "padding": null,
            "right": null,
            "top": null,
            "visibility": null,
            "width": null
          }
        },
        "0123a41c22a34ff1b6351a44dcfadd75": {
          "model_module": "@jupyter-widgets/controls",
          "model_name": "DescriptionStyleModel",
          "model_module_version": "1.5.0",
          "state": {
            "_model_module": "@jupyter-widgets/controls",
            "_model_module_version": "1.5.0",
            "_model_name": "DescriptionStyleModel",
            "_view_count": null,
            "_view_module": "@jupyter-widgets/base",
            "_view_module_version": "1.2.0",
            "_view_name": "StyleView",
            "description_width": ""
          }
        },
        "4ba56e563f3a48c18014beab90588183": {
          "model_module": "@jupyter-widgets/controls",
          "model_name": "HBoxModel",
          "model_module_version": "1.5.0",
          "state": {
            "_dom_classes": [],
            "_model_module": "@jupyter-widgets/controls",
            "_model_module_version": "1.5.0",
            "_model_name": "HBoxModel",
            "_view_count": null,
            "_view_module": "@jupyter-widgets/controls",
            "_view_module_version": "1.5.0",
            "_view_name": "HBoxView",
            "box_style": "",
            "children": [
              "IPY_MODEL_940a3842a9ef4a31847a9b39a0091246",
              "IPY_MODEL_84acfc670890439290272e0b67f31176",
              "IPY_MODEL_2cb2bf25e07b4300ab2fa0f059668c97"
            ],
            "layout": "IPY_MODEL_4e7498d1c7d4474cb9ed36b26bdbfdab"
          }
        },
        "940a3842a9ef4a31847a9b39a0091246": {
          "model_module": "@jupyter-widgets/controls",
          "model_name": "HTMLModel",
          "model_module_version": "1.5.0",
          "state": {
            "_dom_classes": [],
            "_model_module": "@jupyter-widgets/controls",
            "_model_module_version": "1.5.0",
            "_model_name": "HTMLModel",
            "_view_count": null,
            "_view_module": "@jupyter-widgets/controls",
            "_view_module_version": "1.5.0",
            "_view_name": "HTMLView",
            "description": "",
            "description_tooltip": null,
            "layout": "IPY_MODEL_4f03eb4d5a9440fa913f3d4d09231cb4",
            "placeholder": "​",
            "style": "IPY_MODEL_0baad99b0d8b4810b5ac00d56c850b50",
            "value": "special_tokens_map.json: 100%"
          }
        },
        "84acfc670890439290272e0b67f31176": {
          "model_module": "@jupyter-widgets/controls",
          "model_name": "FloatProgressModel",
          "model_module_version": "1.5.0",
          "state": {
            "_dom_classes": [],
            "_model_module": "@jupyter-widgets/controls",
            "_model_module_version": "1.5.0",
            "_model_name": "FloatProgressModel",
            "_view_count": null,
            "_view_module": "@jupyter-widgets/controls",
            "_view_module_version": "1.5.0",
            "_view_name": "ProgressView",
            "bar_style": "success",
            "description": "",
            "description_tooltip": null,
            "layout": "IPY_MODEL_f7646a70274d405cbc4f92a47adb27a7",
            "max": 125,
            "min": 0,
            "orientation": "horizontal",
            "style": "IPY_MODEL_634d0d108d8541e784485a75527dadef",
            "value": 125
          }
        },
        "2cb2bf25e07b4300ab2fa0f059668c97": {
          "model_module": "@jupyter-widgets/controls",
          "model_name": "HTMLModel",
          "model_module_version": "1.5.0",
          "state": {
            "_dom_classes": [],
            "_model_module": "@jupyter-widgets/controls",
            "_model_module_version": "1.5.0",
            "_model_name": "HTMLModel",
            "_view_count": null,
            "_view_module": "@jupyter-widgets/controls",
            "_view_module_version": "1.5.0",
            "_view_name": "HTMLView",
            "description": "",
            "description_tooltip": null,
            "layout": "IPY_MODEL_3c52734c241540cfab2be4fb1a4acaee",
            "placeholder": "​",
            "style": "IPY_MODEL_3cd7407b16234c66968cf2695270b448",
            "value": " 125/125 [00:00&lt;00:00, 10.9kB/s]"
          }
        },
        "4e7498d1c7d4474cb9ed36b26bdbfdab": {
          "model_module": "@jupyter-widgets/base",
          "model_name": "LayoutModel",
          "model_module_version": "1.2.0",
          "state": {
            "_model_module": "@jupyter-widgets/base",
            "_model_module_version": "1.2.0",
            "_model_name": "LayoutModel",
            "_view_count": null,
            "_view_module": "@jupyter-widgets/base",
            "_view_module_version": "1.2.0",
            "_view_name": "LayoutView",
            "align_content": null,
            "align_items": null,
            "align_self": null,
            "border": null,
            "bottom": null,
            "display": null,
            "flex": null,
            "flex_flow": null,
            "grid_area": null,
            "grid_auto_columns": null,
            "grid_auto_flow": null,
            "grid_auto_rows": null,
            "grid_column": null,
            "grid_gap": null,
            "grid_row": null,
            "grid_template_areas": null,
            "grid_template_columns": null,
            "grid_template_rows": null,
            "height": null,
            "justify_content": null,
            "justify_items": null,
            "left": null,
            "margin": null,
            "max_height": null,
            "max_width": null,
            "min_height": null,
            "min_width": null,
            "object_fit": null,
            "object_position": null,
            "order": null,
            "overflow": null,
            "overflow_x": null,
            "overflow_y": null,
            "padding": null,
            "right": null,
            "top": null,
            "visibility": null,
            "width": null
          }
        },
        "4f03eb4d5a9440fa913f3d4d09231cb4": {
          "model_module": "@jupyter-widgets/base",
          "model_name": "LayoutModel",
          "model_module_version": "1.2.0",
          "state": {
            "_model_module": "@jupyter-widgets/base",
            "_model_module_version": "1.2.0",
            "_model_name": "LayoutModel",
            "_view_count": null,
            "_view_module": "@jupyter-widgets/base",
            "_view_module_version": "1.2.0",
            "_view_name": "LayoutView",
            "align_content": null,
            "align_items": null,
            "align_self": null,
            "border": null,
            "bottom": null,
            "display": null,
            "flex": null,
            "flex_flow": null,
            "grid_area": null,
            "grid_auto_columns": null,
            "grid_auto_flow": null,
            "grid_auto_rows": null,
            "grid_column": null,
            "grid_gap": null,
            "grid_row": null,
            "grid_template_areas": null,
            "grid_template_columns": null,
            "grid_template_rows": null,
            "height": null,
            "justify_content": null,
            "justify_items": null,
            "left": null,
            "margin": null,
            "max_height": null,
            "max_width": null,
            "min_height": null,
            "min_width": null,
            "object_fit": null,
            "object_position": null,
            "order": null,
            "overflow": null,
            "overflow_x": null,
            "overflow_y": null,
            "padding": null,
            "right": null,
            "top": null,
            "visibility": null,
            "width": null
          }
        },
        "0baad99b0d8b4810b5ac00d56c850b50": {
          "model_module": "@jupyter-widgets/controls",
          "model_name": "DescriptionStyleModel",
          "model_module_version": "1.5.0",
          "state": {
            "_model_module": "@jupyter-widgets/controls",
            "_model_module_version": "1.5.0",
            "_model_name": "DescriptionStyleModel",
            "_view_count": null,
            "_view_module": "@jupyter-widgets/base",
            "_view_module_version": "1.2.0",
            "_view_name": "StyleView",
            "description_width": ""
          }
        },
        "f7646a70274d405cbc4f92a47adb27a7": {
          "model_module": "@jupyter-widgets/base",
          "model_name": "LayoutModel",
          "model_module_version": "1.2.0",
          "state": {
            "_model_module": "@jupyter-widgets/base",
            "_model_module_version": "1.2.0",
            "_model_name": "LayoutModel",
            "_view_count": null,
            "_view_module": "@jupyter-widgets/base",
            "_view_module_version": "1.2.0",
            "_view_name": "LayoutView",
            "align_content": null,
            "align_items": null,
            "align_self": null,
            "border": null,
            "bottom": null,
            "display": null,
            "flex": null,
            "flex_flow": null,
            "grid_area": null,
            "grid_auto_columns": null,
            "grid_auto_flow": null,
            "grid_auto_rows": null,
            "grid_column": null,
            "grid_gap": null,
            "grid_row": null,
            "grid_template_areas": null,
            "grid_template_columns": null,
            "grid_template_rows": null,
            "height": null,
            "justify_content": null,
            "justify_items": null,
            "left": null,
            "margin": null,
            "max_height": null,
            "max_width": null,
            "min_height": null,
            "min_width": null,
            "object_fit": null,
            "object_position": null,
            "order": null,
            "overflow": null,
            "overflow_x": null,
            "overflow_y": null,
            "padding": null,
            "right": null,
            "top": null,
            "visibility": null,
            "width": null
          }
        },
        "634d0d108d8541e784485a75527dadef": {
          "model_module": "@jupyter-widgets/controls",
          "model_name": "ProgressStyleModel",
          "model_module_version": "1.5.0",
          "state": {
            "_model_module": "@jupyter-widgets/controls",
            "_model_module_version": "1.5.0",
            "_model_name": "ProgressStyleModel",
            "_view_count": null,
            "_view_module": "@jupyter-widgets/base",
            "_view_module_version": "1.2.0",
            "_view_name": "StyleView",
            "bar_color": null,
            "description_width": ""
          }
        },
        "3c52734c241540cfab2be4fb1a4acaee": {
          "model_module": "@jupyter-widgets/base",
          "model_name": "LayoutModel",
          "model_module_version": "1.2.0",
          "state": {
            "_model_module": "@jupyter-widgets/base",
            "_model_module_version": "1.2.0",
            "_model_name": "LayoutModel",
            "_view_count": null,
            "_view_module": "@jupyter-widgets/base",
            "_view_module_version": "1.2.0",
            "_view_name": "LayoutView",
            "align_content": null,
            "align_items": null,
            "align_self": null,
            "border": null,
            "bottom": null,
            "display": null,
            "flex": null,
            "flex_flow": null,
            "grid_area": null,
            "grid_auto_columns": null,
            "grid_auto_flow": null,
            "grid_auto_rows": null,
            "grid_column": null,
            "grid_gap": null,
            "grid_row": null,
            "grid_template_areas": null,
            "grid_template_columns": null,
            "grid_template_rows": null,
            "height": null,
            "justify_content": null,
            "justify_items": null,
            "left": null,
            "margin": null,
            "max_height": null,
            "max_width": null,
            "min_height": null,
            "min_width": null,
            "object_fit": null,
            "object_position": null,
            "order": null,
            "overflow": null,
            "overflow_x": null,
            "overflow_y": null,
            "padding": null,
            "right": null,
            "top": null,
            "visibility": null,
            "width": null
          }
        },
        "3cd7407b16234c66968cf2695270b448": {
          "model_module": "@jupyter-widgets/controls",
          "model_name": "DescriptionStyleModel",
          "model_module_version": "1.5.0",
          "state": {
            "_model_module": "@jupyter-widgets/controls",
            "_model_module_version": "1.5.0",
            "_model_name": "DescriptionStyleModel",
            "_view_count": null,
            "_view_module": "@jupyter-widgets/base",
            "_view_module_version": "1.2.0",
            "_view_name": "StyleView",
            "description_width": ""
          }
        }
      }
    }
  },
  "nbformat": 4,
  "nbformat_minor": 0
}