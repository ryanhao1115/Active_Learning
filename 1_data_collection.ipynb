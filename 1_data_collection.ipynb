{
  "nbformat": 4,
  "nbformat_minor": 0,
  "metadata": {
    "kernelspec": {
      "display_name": "Python 3",
      "language": "python",
      "name": "python3"
    },
    "language_info": {
      "codemirror_mode": {
        "name": "ipython",
        "version": 3
      },
      "file_extension": ".py",
      "mimetype": "text/x-python",
      "name": "python",
      "nbconvert_exporter": "python",
      "pygments_lexer": "ipython3",
      "version": "3.8.5"
    },
    "colab": {
      "name": "1_data_collection.ipynb",
      "provenance": [],
      "collapsed_sections": [],
      "include_colab_link": true
    }
  },
  "cells": [
    {
      "cell_type": "markdown",
      "metadata": {
        "id": "view-in-github",
        "colab_type": "text"
      },
      "source": [
        "<a href=\"https://colab.research.google.com/github/ryanhao1115/Active_Learning/blob/main/1_data_collection.ipynb\" target=\"_parent\"><img src=\"https://colab.research.google.com/assets/colab-badge.svg\" alt=\"Open In Colab\"/></a>"
      ]
    },
    {
      "cell_type": "markdown",
      "metadata": {
        "id": "6Z0lAfsl9UMg"
      },
      "source": [
        "## Data collection and cleaning\n",
        "1. Explore datasets, first round filtering data fields.\n",
        "2. Rename columns.\n",
        "3. Cleaning data.\n",
        "4. Combine datasets into one single table. "
      ]
    },
    {
      "cell_type": "code",
      "metadata": {
        "colab": {
          "base_uri": "https://localhost:8080/"
        },
        "id": "V0RYB1k--cpw",
        "outputId": "c0418a78-1c48-45b7-818b-3a7bb6edaa81"
      },
      "source": [
        "from google.colab import drive\n",
        "drive.mount('/content/drive')"
      ],
      "execution_count": 1,
      "outputs": [
        {
          "output_type": "stream",
          "name": "stdout",
          "text": [
            "Mounted at /content/drive\n"
          ]
        }
      ]
    },
    {
      "cell_type": "code",
      "metadata": {
        "id": "-chEQVlb9UMl"
      },
      "source": [
        "import pandas as pd"
      ],
      "execution_count": 2,
      "outputs": []
    },
    {
      "cell_type": "code",
      "metadata": {
        "id": "c2UxaRWKHvzn"
      },
      "source": [
        "def import_data(filename):\n",
        "  ''' \n",
        "  Sales dataset were exported from SAP into excel files.  One for each month.\n",
        "  import one excel file into pandas DataFrame\n",
        "  '''\n",
        "  path = '/content/drive/MyDrive/Colab Notebooks/finalproject/'\n",
        "  file_path = path + filename\n",
        "  df = pd.read_excel(file_path)\n",
        "  return df"
      ],
      "execution_count": 25,
      "outputs": []
    },
    {
      "cell_type": "code",
      "metadata": {
        "id": "s_2lvV_K9UMm"
      },
      "source": [
        "df = import_data('may.XLSX')"
      ],
      "execution_count": null,
      "outputs": []
    },
    {
      "cell_type": "code",
      "metadata": {
        "id": "8tsq3Ur89UMo"
      },
      "source": [
        "def select_fields(df):\n",
        "  '''\n",
        "  Select fields related to this project. \n",
        "  Rename columns.\n",
        "  '''\n",
        "  col = [0,3,6,16,24,25,27,31,38,40,42,43,50,53,65,76,77,80,83,86]\n",
        "  col_names = ['distributor','sales','branch','inv_type','invoice_no','line_item','product_no','prod_cla','qty','total_amt','sale_price','status','ship_qty','cust_type','return','discount_app','list_price', 'invoice_date','ship_date','request_ship']\n",
        "  df = df.iloc[:,col]\n",
        "  df.columns = col_names\n",
        "  return df\n"
      ],
      "execution_count": 24,
      "outputs": []
    },
    {
      "cell_type": "code",
      "metadata": {
        "id": "IHGVohOLX3Xq"
      },
      "source": [
        "def fillna_filter(df):\n",
        "  '''\n",
        "  Fill all missing values. \n",
        "  Filter records according to business nature. \n",
        "  '''\n",
        "  df['cust_type'] = df['cust_type'].fillna(value='No')\n",
        "  df['return'] = df['return'].fillna(value = 'No')\n",
        "  df['discount_app'] = df['discount_app'].fillna(value = 'No')\n",
        "  df['prod_cla'] = df['prod_cla'].fillna(value = '9999')\n",
        "  df['ship_date'] = df['ship_date'].fillna(value = '2019-12-31')\n",
        "  df = df[df['status'] == '完成请求']\n",
        "  return df\n",
        "\n"
      ],
      "execution_count": 42,
      "outputs": []
    },
    {
      "cell_type": "code",
      "metadata": {
        "id": "Y4f7-gil_bDD"
      },
      "source": [
        "df_total = df1"
      ],
      "execution_count": 70,
      "outputs": []
    },
    {
      "cell_type": "code",
      "metadata": {
        "id": "zJJupaF2p-En"
      },
      "source": [
        "def main(filename,df_total):\n",
        "  '''\n",
        "  Combine all functions for data import and cleaning. \n",
        "  Concat all data into one df in order.\n",
        "  '''\n",
        "  df = import_data(filename)\n",
        "  df = select_fields(df)\n",
        "  df = fillna_filter(df)\n",
        "  df_total = pd.concat([df_total,df],axis=0)\n",
        "  return df_total"
      ],
      "execution_count": 79,
      "outputs": []
    },
    {
      "cell_type": "code",
      "metadata": {
        "id": "gmihH9OwyYvh"
      },
      "source": [
        "df_total = main('july2.XLSX',df_total)"
      ],
      "execution_count": 95,
      "outputs": []
    },
    {
      "cell_type": "code",
      "metadata": {
        "colab": {
          "base_uri": "https://localhost:8080/"
        },
        "id": "AZ9bb7CQwnCB",
        "outputId": "c0233eb0-7832-40ba-e221-1e9581a97cc5"
      },
      "source": [
        "df_total['invoice_date'].max()"
      ],
      "execution_count": 96,
      "outputs": [
        {
          "output_type": "execute_result",
          "data": {
            "text/plain": [
              "Timestamp('2019-07-31 00:00:00')"
            ]
          },
          "metadata": {},
          "execution_count": 96
        }
      ]
    },
    {
      "cell_type": "code",
      "metadata": {
        "colab": {
          "base_uri": "https://localhost:8080/"
        },
        "id": "68jka2bRyTXl",
        "outputId": "33ea408d-f3ee-4b06-b1f2-79d9d37c00af"
      },
      "source": [
        "df_total.info()"
      ],
      "execution_count": 97,
      "outputs": [
        {
          "output_type": "stream",
          "name": "stdout",
          "text": [
            "<class 'pandas.core.frame.DataFrame'>\n",
            "Int64Index: 248831 entries, 0 to 45763\n",
            "Data columns (total 20 columns):\n",
            " #   Column        Non-Null Count   Dtype         \n",
            "---  ------        --------------   -----         \n",
            " 0   distributor   248831 non-null  object        \n",
            " 1   sales         248831 non-null  object        \n",
            " 2   branch        248831 non-null  int64         \n",
            " 3   inv_type      248831 non-null  object        \n",
            " 4   invoice_no    248831 non-null  int64         \n",
            " 5   line_item     248831 non-null  int64         \n",
            " 6   product_no    248831 non-null  object        \n",
            " 7   prod_cla      248831 non-null  object        \n",
            " 8   qty           248831 non-null  int64         \n",
            " 9   total_amt     248831 non-null  float64       \n",
            " 10  sale_price    248831 non-null  float64       \n",
            " 11  status        248831 non-null  object        \n",
            " 12  ship_qty      248831 non-null  int64         \n",
            " 13  cust_type     248831 non-null  object        \n",
            " 14  return        248831 non-null  object        \n",
            " 15  discount_app  248831 non-null  object        \n",
            " 16  list_price    248831 non-null  float64       \n",
            " 17  invoice_date  248831 non-null  datetime64[ns]\n",
            " 18  ship_date     248831 non-null  object        \n",
            " 19  request_ship  248831 non-null  datetime64[ns]\n",
            "dtypes: datetime64[ns](2), float64(3), int64(5), object(10)\n",
            "memory usage: 39.9+ MB\n"
          ]
        }
      ]
    },
    {
      "cell_type": "code",
      "metadata": {
        "colab": {
          "base_uri": "https://localhost:8080/",
          "height": 330
        },
        "id": "hDMDVtzYw3CH",
        "outputId": "d340f694-5a88-4f37-984c-5f38f3ce19e2"
      },
      "source": [
        "df_total.tail()"
      ],
      "execution_count": 98,
      "outputs": [
        {
          "output_type": "execute_result",
          "data": {
            "text/html": [
              "<div>\n",
              "<style scoped>\n",
              "    .dataframe tbody tr th:only-of-type {\n",
              "        vertical-align: middle;\n",
              "    }\n",
              "\n",
              "    .dataframe tbody tr th {\n",
              "        vertical-align: top;\n",
              "    }\n",
              "\n",
              "    .dataframe thead th {\n",
              "        text-align: right;\n",
              "    }\n",
              "</style>\n",
              "<table border=\"1\" class=\"dataframe\">\n",
              "  <thead>\n",
              "    <tr style=\"text-align: right;\">\n",
              "      <th></th>\n",
              "      <th>distributor</th>\n",
              "      <th>sales</th>\n",
              "      <th>branch</th>\n",
              "      <th>inv_type</th>\n",
              "      <th>invoice_no</th>\n",
              "      <th>line_item</th>\n",
              "      <th>product_no</th>\n",
              "      <th>prod_cla</th>\n",
              "      <th>qty</th>\n",
              "      <th>total_amt</th>\n",
              "      <th>sale_price</th>\n",
              "      <th>status</th>\n",
              "      <th>ship_qty</th>\n",
              "      <th>cust_type</th>\n",
              "      <th>return</th>\n",
              "      <th>discount_app</th>\n",
              "      <th>list_price</th>\n",
              "      <th>invoice_date</th>\n",
              "      <th>ship_date</th>\n",
              "      <th>request_ship</th>\n",
              "    </tr>\n",
              "  </thead>\n",
              "  <tbody>\n",
              "    <tr>\n",
              "      <th>45759</th>\n",
              "      <td>A001263702</td>\n",
              "      <td>PJ013518</td>\n",
              "      <td>72010</td>\n",
              "      <td>Z041</td>\n",
              "      <td>4100045291</td>\n",
              "      <td>10</td>\n",
              "      <td>DISCOUNT FTX</td>\n",
              "      <td>11040</td>\n",
              "      <td>-1</td>\n",
              "      <td>-126637.17</td>\n",
              "      <td>126637.17</td>\n",
              "      <td>完成请求</td>\n",
              "      <td>0</td>\n",
              "      <td>No</td>\n",
              "      <td>99：其他</td>\n",
              "      <td>No</td>\n",
              "      <td>143100.00</td>\n",
              "      <td>2019-07-31</td>\n",
              "      <td>2019-12-31</td>\n",
              "      <td>2019-07-31</td>\n",
              "    </tr>\n",
              "    <tr>\n",
              "      <th>45760</th>\n",
              "      <td>A001285402</td>\n",
              "      <td>PJ013518</td>\n",
              "      <td>72010</td>\n",
              "      <td>Z041</td>\n",
              "      <td>4100045297</td>\n",
              "      <td>10</td>\n",
              "      <td>DISCOUNT FTX</td>\n",
              "      <td>11040</td>\n",
              "      <td>-1</td>\n",
              "      <td>-752069.10</td>\n",
              "      <td>752069.10</td>\n",
              "      <td>完成请求</td>\n",
              "      <td>0</td>\n",
              "      <td>No</td>\n",
              "      <td>99：其他</td>\n",
              "      <td>No</td>\n",
              "      <td>849838.08</td>\n",
              "      <td>2019-07-31</td>\n",
              "      <td>2019-12-31</td>\n",
              "      <td>2019-07-31</td>\n",
              "    </tr>\n",
              "    <tr>\n",
              "      <th>45761</th>\n",
              "      <td>A001285402</td>\n",
              "      <td>PJ013518</td>\n",
              "      <td>72010</td>\n",
              "      <td>Z041</td>\n",
              "      <td>4100045300</td>\n",
              "      <td>10</td>\n",
              "      <td>DISCOUNT FTX</td>\n",
              "      <td>11040</td>\n",
              "      <td>-1</td>\n",
              "      <td>-40752.59</td>\n",
              "      <td>40752.59</td>\n",
              "      <td>完成请求</td>\n",
              "      <td>0</td>\n",
              "      <td>No</td>\n",
              "      <td>99：其他</td>\n",
              "      <td>No</td>\n",
              "      <td>47273.00</td>\n",
              "      <td>2019-07-31</td>\n",
              "      <td>2019-12-31</td>\n",
              "      <td>2019-07-31</td>\n",
              "    </tr>\n",
              "    <tr>\n",
              "      <th>45762</th>\n",
              "      <td>A001285402</td>\n",
              "      <td>PJ013518</td>\n",
              "      <td>72010</td>\n",
              "      <td>Z041</td>\n",
              "      <td>4100045305</td>\n",
              "      <td>10</td>\n",
              "      <td>DISCOUNT FTX</td>\n",
              "      <td>11040</td>\n",
              "      <td>-1</td>\n",
              "      <td>-146700.00</td>\n",
              "      <td>146700.00</td>\n",
              "      <td>完成请求</td>\n",
              "      <td>0</td>\n",
              "      <td>No</td>\n",
              "      <td>99：其他</td>\n",
              "      <td>No</td>\n",
              "      <td>165771.00</td>\n",
              "      <td>2019-07-31</td>\n",
              "      <td>2019-12-31</td>\n",
              "      <td>2019-07-31</td>\n",
              "    </tr>\n",
              "    <tr>\n",
              "      <th>45763</th>\n",
              "      <td>A15010472</td>\n",
              "      <td>PJ042112</td>\n",
              "      <td>720019</td>\n",
              "      <td>Z042</td>\n",
              "      <td>4200000016</td>\n",
              "      <td>30</td>\n",
              "      <td>RHXYQ12BA</td>\n",
              "      <td>11010</td>\n",
              "      <td>-1</td>\n",
              "      <td>-25008.85</td>\n",
              "      <td>25008.85</td>\n",
              "      <td>完成请求</td>\n",
              "      <td>1</td>\n",
              "      <td>AA01</td>\n",
              "      <td>21：物流　运输损坏</td>\n",
              "      <td>2.11139e+09</td>\n",
              "      <td>28260.00</td>\n",
              "      <td>2019-07-18</td>\n",
              "      <td>2019-07-18 00:00:00</td>\n",
              "      <td>2019-07-18</td>\n",
              "    </tr>\n",
              "  </tbody>\n",
              "</table>\n",
              "</div>"
            ],
            "text/plain": [
              "      distributor     sales  ...            ship_date request_ship\n",
              "45759  A001263702  PJ013518  ...           2019-12-31   2019-07-31\n",
              "45760  A001285402  PJ013518  ...           2019-12-31   2019-07-31\n",
              "45761  A001285402  PJ013518  ...           2019-12-31   2019-07-31\n",
              "45762  A001285402  PJ013518  ...           2019-12-31   2019-07-31\n",
              "45763   A15010472  PJ042112  ...  2019-07-18 00:00:00   2019-07-18\n",
              "\n",
              "[5 rows x 20 columns]"
            ]
          },
          "metadata": {},
          "execution_count": 98
        }
      ]
    },
    {
      "cell_type": "code",
      "metadata": {
        "colab": {
          "base_uri": "https://localhost:8080/"
        },
        "id": "ewc88W9F01Qv",
        "outputId": "3bdfe283-b061-4d8e-edbb-1f78dadbb28b"
      },
      "source": [
        "df_total['branch'].value_counts()"
      ],
      "execution_count": 84,
      "outputs": [
        {
          "output_type": "execute_result",
          "data": {
            "text/plain": [
              "720006    13931\n",
              "720008    11623\n",
              "720013     9336\n",
              "720007     8140\n",
              "720009     7294\n",
              "720010     7126\n",
              "720017     6549\n",
              "720019     5808\n",
              "720028     4959\n",
              "720027     4830\n",
              "720014     4588\n",
              "720018     4469\n",
              "720016     3940\n",
              "720036     3668\n",
              "720030     3599\n",
              "720029     3440\n",
              "720012     3276\n",
              "720011     3178\n",
              "720015     2094\n",
              "720021     2067\n",
              "720037     1962\n",
              "720024     1885\n",
              "720025     1805\n",
              "720026     1663\n",
              "720023     1032\n",
              "720022      872\n",
              "72010       668\n",
              "72011       193\n",
              "Name: branch, dtype: int64"
            ]
          },
          "metadata": {},
          "execution_count": 84
        }
      ]
    },
    {
      "cell_type": "code",
      "metadata": {
        "id": "vfZSi2FlWAoi"
      },
      "source": [
        "path = '/content/drive/MyDrive/Colab Notebooks/finalproject/'\n",
        "file_csv = path + 'sales.csv'\n",
        "df_total.to_csv(file_csv)"
      ],
      "execution_count": 100,
      "outputs": []
    }
  ]
}